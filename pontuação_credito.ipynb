{
  "cells": [
    {
      "cell_type": "markdown",
      "metadata": {
        "id": "N1OKXQh66x21"
      },
      "source": [
        "# Análise do risco de inadimplência dos mutuários\n",
        "\n",
        "Seu projeto é preparar um relatório para a divisão de empréstimos de um banco. Você precisará descobrir se o estado civil de um cliente e o número de filhos têm impacto sobre se ele deixará de pagar um empréstimo. O banco já tem alguns dados sobre a capacidade de crédito dos clientes.\n",
        "\n",
        "Seu relatório será considerado ao criar uma **pontuação de crédito** de um cliente em potencial. A **contagem de crédito** é usada para avaliar a capacidade de um devedor em potencial de pagar seu empréstimo."
      ]
    },
    {
      "cell_type": "markdown",
      "metadata": {
        "id": "oRLS7I9S6x21"
      },
      "source": [
        "## Abra o arquivo de dados e veja as informações gerais.\n",
        "\n",
        "### Importando biblioteca pandas e o arquivo fornecido"
      ]
    },
    {
      "cell_type": "code",
      "execution_count": null,
      "metadata": {
        "id": "zn1O8UXa6x21"
      },
      "outputs": [],
      "source": [
        "# Carregando todas as bibliotecas\n",
        "import pandas as pd\n",
        "import numpy as np\n",
        "\n",
        "# Carregue os dados\n",
        "df = pd.read_csv('https://code.s3.yandex.net/datasets/credit_scoring_eng.csv')"
      ]
    },
    {
      "cell_type": "markdown",
      "metadata": {
        "id": "wkB_-VEc6x21"
      },
      "source": [
        "## Exploração de dados\n",
        "\n",
        "**Descrição dos dados**\n",
        "- `children` - o número de crianças na família\n",
        "- `days_employed` - experiência de trabalho em dias\n",
        "- `dob_years` - idade do cliente em anos\n",
        "- `education` - educação do cliente\n",
        "- `education_id` - identificador de educação\n",
        "- `family_status` - estado civil do cliente\n",
        "- `family_status_id` - identificador de estado civil\n",
        "- `gender` - gênero do cliente\n",
        "- `income_type` - tipo de emprego\n",
        "- `debt` - havia alguma dívida no pagamento do empréstimo\n",
        "- `total_income` - renda mensal\n",
        "- `purpose` - o objetivo de obter um empréstimo\n"
      ]
    },
    {
      "cell_type": "code",
      "execution_count": null,
      "metadata": {
        "id": "3Eelj5Zu6x22",
        "outputId": "c0a5957c-904e-42a6-fcd8-9ed70924dce8"
      },
      "outputs": [
        {
          "name": "stdout",
          "output_type": "stream",
          "text": [
            "<class 'pandas.core.frame.DataFrame'>\n",
            "RangeIndex: 21525 entries, 0 to 21524\n",
            "Data columns (total 12 columns):\n",
            " #   Column            Non-Null Count  Dtype  \n",
            "---  ------            --------------  -----  \n",
            " 0   children          21525 non-null  int64  \n",
            " 1   days_employed     19351 non-null  float64\n",
            " 2   dob_years         21525 non-null  int64  \n",
            " 3   education         21525 non-null  object \n",
            " 4   education_id      21525 non-null  int64  \n",
            " 5   family_status     21525 non-null  object \n",
            " 6   family_status_id  21525 non-null  int64  \n",
            " 7   gender            21525 non-null  object \n",
            " 8   income_type       21525 non-null  object \n",
            " 9   debt              21525 non-null  int64  \n",
            " 10  total_income      19351 non-null  float64\n",
            " 11  purpose           21525 non-null  object \n",
            "dtypes: float64(2), int64(5), object(5)\n",
            "memory usage: 2.0+ MB\n"
          ]
        }
      ],
      "source": [
        "# Vamos ver quantas colunas nosso conjunto de dados tem\n",
        "df.info()"
      ]
    },
    {
      "cell_type": "code",
      "execution_count": null,
      "metadata": {
        "id": "YItZqqBO6x22",
        "outputId": "927c0445-02ac-40a5-b8d3-2a10b8c1f6e9"
      },
      "outputs": [
        {
          "data": {
            "text/html": [
              "<div>\n",
              "<style scoped>\n",
              "    .dataframe tbody tr th:only-of-type {\n",
              "        vertical-align: middle;\n",
              "    }\n",
              "\n",
              "    .dataframe tbody tr th {\n",
              "        vertical-align: top;\n",
              "    }\n",
              "\n",
              "    .dataframe thead th {\n",
              "        text-align: right;\n",
              "    }\n",
              "</style>\n",
              "<table border=\"1\" class=\"dataframe\">\n",
              "  <thead>\n",
              "    <tr style=\"text-align: right;\">\n",
              "      <th></th>\n",
              "      <th>children</th>\n",
              "      <th>days_employed</th>\n",
              "      <th>dob_years</th>\n",
              "      <th>education_id</th>\n",
              "      <th>family_status_id</th>\n",
              "      <th>debt</th>\n",
              "      <th>total_income</th>\n",
              "    </tr>\n",
              "  </thead>\n",
              "  <tbody>\n",
              "    <tr>\n",
              "      <th>count</th>\n",
              "      <td>21525.000000</td>\n",
              "      <td>19351.000000</td>\n",
              "      <td>21525.000000</td>\n",
              "      <td>21525.000000</td>\n",
              "      <td>21525.000000</td>\n",
              "      <td>21525.000000</td>\n",
              "      <td>19351.000000</td>\n",
              "    </tr>\n",
              "    <tr>\n",
              "      <th>mean</th>\n",
              "      <td>0.538908</td>\n",
              "      <td>63046.497661</td>\n",
              "      <td>43.293380</td>\n",
              "      <td>0.817236</td>\n",
              "      <td>0.972544</td>\n",
              "      <td>0.080883</td>\n",
              "      <td>26787.568355</td>\n",
              "    </tr>\n",
              "    <tr>\n",
              "      <th>std</th>\n",
              "      <td>1.381587</td>\n",
              "      <td>140827.311974</td>\n",
              "      <td>12.574584</td>\n",
              "      <td>0.548138</td>\n",
              "      <td>1.420324</td>\n",
              "      <td>0.272661</td>\n",
              "      <td>16475.450632</td>\n",
              "    </tr>\n",
              "    <tr>\n",
              "      <th>min</th>\n",
              "      <td>-1.000000</td>\n",
              "      <td>-18388.949901</td>\n",
              "      <td>0.000000</td>\n",
              "      <td>0.000000</td>\n",
              "      <td>0.000000</td>\n",
              "      <td>0.000000</td>\n",
              "      <td>3306.762000</td>\n",
              "    </tr>\n",
              "    <tr>\n",
              "      <th>25%</th>\n",
              "      <td>0.000000</td>\n",
              "      <td>-2747.423625</td>\n",
              "      <td>33.000000</td>\n",
              "      <td>1.000000</td>\n",
              "      <td>0.000000</td>\n",
              "      <td>0.000000</td>\n",
              "      <td>16488.504500</td>\n",
              "    </tr>\n",
              "    <tr>\n",
              "      <th>50%</th>\n",
              "      <td>0.000000</td>\n",
              "      <td>-1203.369529</td>\n",
              "      <td>42.000000</td>\n",
              "      <td>1.000000</td>\n",
              "      <td>0.000000</td>\n",
              "      <td>0.000000</td>\n",
              "      <td>23202.870000</td>\n",
              "    </tr>\n",
              "    <tr>\n",
              "      <th>75%</th>\n",
              "      <td>1.000000</td>\n",
              "      <td>-291.095954</td>\n",
              "      <td>53.000000</td>\n",
              "      <td>1.000000</td>\n",
              "      <td>1.000000</td>\n",
              "      <td>0.000000</td>\n",
              "      <td>32549.611000</td>\n",
              "    </tr>\n",
              "    <tr>\n",
              "      <th>max</th>\n",
              "      <td>20.000000</td>\n",
              "      <td>401755.400475</td>\n",
              "      <td>75.000000</td>\n",
              "      <td>4.000000</td>\n",
              "      <td>4.000000</td>\n",
              "      <td>1.000000</td>\n",
              "      <td>362496.645000</td>\n",
              "    </tr>\n",
              "  </tbody>\n",
              "</table>\n",
              "</div>"
            ],
            "text/plain": [
              "           children  days_employed     dob_years  education_id  \\\n",
              "count  21525.000000   19351.000000  21525.000000  21525.000000   \n",
              "mean       0.538908   63046.497661     43.293380      0.817236   \n",
              "std        1.381587  140827.311974     12.574584      0.548138   \n",
              "min       -1.000000  -18388.949901      0.000000      0.000000   \n",
              "25%        0.000000   -2747.423625     33.000000      1.000000   \n",
              "50%        0.000000   -1203.369529     42.000000      1.000000   \n",
              "75%        1.000000    -291.095954     53.000000      1.000000   \n",
              "max       20.000000  401755.400475     75.000000      4.000000   \n",
              "\n",
              "       family_status_id          debt   total_income  \n",
              "count      21525.000000  21525.000000   19351.000000  \n",
              "mean           0.972544      0.080883   26787.568355  \n",
              "std            1.420324      0.272661   16475.450632  \n",
              "min            0.000000      0.000000    3306.762000  \n",
              "25%            0.000000      0.000000   16488.504500  \n",
              "50%            0.000000      0.000000   23202.870000  \n",
              "75%            1.000000      0.000000   32549.611000  \n",
              "max            4.000000      1.000000  362496.645000  "
            ]
          },
          "execution_count": 3,
          "metadata": {},
          "output_type": "execute_result"
        }
      ],
      "source": [
        "df.describe()"
      ]
    },
    {
      "cell_type": "markdown",
      "metadata": {
        "id": "jLrycTR76x22"
      },
      "source": [
        "O conjunto de dados possui 12 colunas e 21525 linhas. É possível perceber que existem dados faltando em \"days_employed\" e \"total_income\". Vamos ver como estão essas faltas no conjunto de dados."
      ]
    },
    {
      "cell_type": "code",
      "execution_count": null,
      "metadata": {
        "scrolled": true,
        "id": "OxKtJcCJ6x22",
        "outputId": "2085c372-180e-4942-9c4f-e087d59cde5a"
      },
      "outputs": [
        {
          "data": {
            "text/html": [
              "<div>\n",
              "<style scoped>\n",
              "    .dataframe tbody tr th:only-of-type {\n",
              "        vertical-align: middle;\n",
              "    }\n",
              "\n",
              "    .dataframe tbody tr th {\n",
              "        vertical-align: top;\n",
              "    }\n",
              "\n",
              "    .dataframe thead th {\n",
              "        text-align: right;\n",
              "    }\n",
              "</style>\n",
              "<table border=\"1\" class=\"dataframe\">\n",
              "  <thead>\n",
              "    <tr style=\"text-align: right;\">\n",
              "      <th></th>\n",
              "      <th>children</th>\n",
              "      <th>days_employed</th>\n",
              "      <th>dob_years</th>\n",
              "      <th>education</th>\n",
              "      <th>education_id</th>\n",
              "      <th>family_status</th>\n",
              "      <th>family_status_id</th>\n",
              "      <th>gender</th>\n",
              "      <th>income_type</th>\n",
              "      <th>debt</th>\n",
              "      <th>total_income</th>\n",
              "      <th>purpose</th>\n",
              "    </tr>\n",
              "  </thead>\n",
              "  <tbody>\n",
              "    <tr>\n",
              "      <th>0</th>\n",
              "      <td>1</td>\n",
              "      <td>-8437.673028</td>\n",
              "      <td>42</td>\n",
              "      <td>bachelor's degree</td>\n",
              "      <td>0</td>\n",
              "      <td>married</td>\n",
              "      <td>0</td>\n",
              "      <td>F</td>\n",
              "      <td>employee</td>\n",
              "      <td>0</td>\n",
              "      <td>40620.102</td>\n",
              "      <td>purchase of the house</td>\n",
              "    </tr>\n",
              "    <tr>\n",
              "      <th>1</th>\n",
              "      <td>1</td>\n",
              "      <td>-4024.803754</td>\n",
              "      <td>36</td>\n",
              "      <td>secondary education</td>\n",
              "      <td>1</td>\n",
              "      <td>married</td>\n",
              "      <td>0</td>\n",
              "      <td>F</td>\n",
              "      <td>employee</td>\n",
              "      <td>0</td>\n",
              "      <td>17932.802</td>\n",
              "      <td>car purchase</td>\n",
              "    </tr>\n",
              "    <tr>\n",
              "      <th>2</th>\n",
              "      <td>0</td>\n",
              "      <td>-5623.422610</td>\n",
              "      <td>33</td>\n",
              "      <td>Secondary Education</td>\n",
              "      <td>1</td>\n",
              "      <td>married</td>\n",
              "      <td>0</td>\n",
              "      <td>M</td>\n",
              "      <td>employee</td>\n",
              "      <td>0</td>\n",
              "      <td>23341.752</td>\n",
              "      <td>purchase of the house</td>\n",
              "    </tr>\n",
              "    <tr>\n",
              "      <th>3</th>\n",
              "      <td>3</td>\n",
              "      <td>-4124.747207</td>\n",
              "      <td>32</td>\n",
              "      <td>secondary education</td>\n",
              "      <td>1</td>\n",
              "      <td>married</td>\n",
              "      <td>0</td>\n",
              "      <td>M</td>\n",
              "      <td>employee</td>\n",
              "      <td>0</td>\n",
              "      <td>42820.568</td>\n",
              "      <td>supplementary education</td>\n",
              "    </tr>\n",
              "    <tr>\n",
              "      <th>4</th>\n",
              "      <td>0</td>\n",
              "      <td>340266.072047</td>\n",
              "      <td>53</td>\n",
              "      <td>secondary education</td>\n",
              "      <td>1</td>\n",
              "      <td>civil partnership</td>\n",
              "      <td>1</td>\n",
              "      <td>F</td>\n",
              "      <td>retiree</td>\n",
              "      <td>0</td>\n",
              "      <td>25378.572</td>\n",
              "      <td>to have a wedding</td>\n",
              "    </tr>\n",
              "    <tr>\n",
              "      <th>5</th>\n",
              "      <td>0</td>\n",
              "      <td>-926.185831</td>\n",
              "      <td>27</td>\n",
              "      <td>bachelor's degree</td>\n",
              "      <td>0</td>\n",
              "      <td>civil partnership</td>\n",
              "      <td>1</td>\n",
              "      <td>M</td>\n",
              "      <td>business</td>\n",
              "      <td>0</td>\n",
              "      <td>40922.170</td>\n",
              "      <td>purchase of the house</td>\n",
              "    </tr>\n",
              "    <tr>\n",
              "      <th>6</th>\n",
              "      <td>0</td>\n",
              "      <td>-2879.202052</td>\n",
              "      <td>43</td>\n",
              "      <td>bachelor's degree</td>\n",
              "      <td>0</td>\n",
              "      <td>married</td>\n",
              "      <td>0</td>\n",
              "      <td>F</td>\n",
              "      <td>business</td>\n",
              "      <td>0</td>\n",
              "      <td>38484.156</td>\n",
              "      <td>housing transactions</td>\n",
              "    </tr>\n",
              "    <tr>\n",
              "      <th>7</th>\n",
              "      <td>0</td>\n",
              "      <td>-152.779569</td>\n",
              "      <td>50</td>\n",
              "      <td>SECONDARY EDUCATION</td>\n",
              "      <td>1</td>\n",
              "      <td>married</td>\n",
              "      <td>0</td>\n",
              "      <td>M</td>\n",
              "      <td>employee</td>\n",
              "      <td>0</td>\n",
              "      <td>21731.829</td>\n",
              "      <td>education</td>\n",
              "    </tr>\n",
              "    <tr>\n",
              "      <th>8</th>\n",
              "      <td>2</td>\n",
              "      <td>-6929.865299</td>\n",
              "      <td>35</td>\n",
              "      <td>BACHELOR'S DEGREE</td>\n",
              "      <td>0</td>\n",
              "      <td>civil partnership</td>\n",
              "      <td>1</td>\n",
              "      <td>F</td>\n",
              "      <td>employee</td>\n",
              "      <td>0</td>\n",
              "      <td>15337.093</td>\n",
              "      <td>having a wedding</td>\n",
              "    </tr>\n",
              "    <tr>\n",
              "      <th>9</th>\n",
              "      <td>0</td>\n",
              "      <td>-2188.756445</td>\n",
              "      <td>41</td>\n",
              "      <td>secondary education</td>\n",
              "      <td>1</td>\n",
              "      <td>married</td>\n",
              "      <td>0</td>\n",
              "      <td>M</td>\n",
              "      <td>employee</td>\n",
              "      <td>0</td>\n",
              "      <td>23108.150</td>\n",
              "      <td>purchase of the house for my family</td>\n",
              "    </tr>\n",
              "  </tbody>\n",
              "</table>\n",
              "</div>"
            ],
            "text/plain": [
              "   children  days_employed  dob_years            education  education_id  \\\n",
              "0         1   -8437.673028         42    bachelor's degree             0   \n",
              "1         1   -4024.803754         36  secondary education             1   \n",
              "2         0   -5623.422610         33  Secondary Education             1   \n",
              "3         3   -4124.747207         32  secondary education             1   \n",
              "4         0  340266.072047         53  secondary education             1   \n",
              "5         0    -926.185831         27    bachelor's degree             0   \n",
              "6         0   -2879.202052         43    bachelor's degree             0   \n",
              "7         0    -152.779569         50  SECONDARY EDUCATION             1   \n",
              "8         2   -6929.865299         35    BACHELOR'S DEGREE             0   \n",
              "9         0   -2188.756445         41  secondary education             1   \n",
              "\n",
              "       family_status  family_status_id gender income_type  debt  total_income  \\\n",
              "0            married                 0      F    employee     0     40620.102   \n",
              "1            married                 0      F    employee     0     17932.802   \n",
              "2            married                 0      M    employee     0     23341.752   \n",
              "3            married                 0      M    employee     0     42820.568   \n",
              "4  civil partnership                 1      F     retiree     0     25378.572   \n",
              "5  civil partnership                 1      M    business     0     40922.170   \n",
              "6            married                 0      F    business     0     38484.156   \n",
              "7            married                 0      M    employee     0     21731.829   \n",
              "8  civil partnership                 1      F    employee     0     15337.093   \n",
              "9            married                 0      M    employee     0     23108.150   \n",
              "\n",
              "                               purpose  \n",
              "0                purchase of the house  \n",
              "1                         car purchase  \n",
              "2                purchase of the house  \n",
              "3              supplementary education  \n",
              "4                    to have a wedding  \n",
              "5                purchase of the house  \n",
              "6                 housing transactions  \n",
              "7                            education  \n",
              "8                     having a wedding  \n",
              "9  purchase of the house for my family  "
            ]
          },
          "execution_count": 4,
          "metadata": {},
          "output_type": "execute_result"
        }
      ],
      "source": [
        "# Exibindo as primeiras 10 linhas\n",
        "df.head(10)"
      ]
    },
    {
      "cell_type": "code",
      "execution_count": null,
      "metadata": {
        "id": "habUVx4p6x23",
        "outputId": "c513c573-8b95-4854-9f69-a040155cca4b"
      },
      "outputs": [
        {
          "data": {
            "text/html": [
              "<div>\n",
              "<style scoped>\n",
              "    .dataframe tbody tr th:only-of-type {\n",
              "        vertical-align: middle;\n",
              "    }\n",
              "\n",
              "    .dataframe tbody tr th {\n",
              "        vertical-align: top;\n",
              "    }\n",
              "\n",
              "    .dataframe thead th {\n",
              "        text-align: right;\n",
              "    }\n",
              "</style>\n",
              "<table border=\"1\" class=\"dataframe\">\n",
              "  <thead>\n",
              "    <tr style=\"text-align: right;\">\n",
              "      <th></th>\n",
              "      <th>children</th>\n",
              "      <th>days_employed</th>\n",
              "      <th>dob_years</th>\n",
              "      <th>education</th>\n",
              "      <th>education_id</th>\n",
              "      <th>family_status</th>\n",
              "      <th>family_status_id</th>\n",
              "      <th>gender</th>\n",
              "      <th>income_type</th>\n",
              "      <th>debt</th>\n",
              "      <th>total_income</th>\n",
              "      <th>purpose</th>\n",
              "    </tr>\n",
              "  </thead>\n",
              "  <tbody>\n",
              "    <tr>\n",
              "      <th>21515</th>\n",
              "      <td>1</td>\n",
              "      <td>-467.685130</td>\n",
              "      <td>28</td>\n",
              "      <td>secondary education</td>\n",
              "      <td>1</td>\n",
              "      <td>married</td>\n",
              "      <td>0</td>\n",
              "      <td>F</td>\n",
              "      <td>employee</td>\n",
              "      <td>1</td>\n",
              "      <td>17517.812</td>\n",
              "      <td>to become educated</td>\n",
              "    </tr>\n",
              "    <tr>\n",
              "      <th>21516</th>\n",
              "      <td>0</td>\n",
              "      <td>-914.391429</td>\n",
              "      <td>42</td>\n",
              "      <td>bachelor's degree</td>\n",
              "      <td>0</td>\n",
              "      <td>married</td>\n",
              "      <td>0</td>\n",
              "      <td>F</td>\n",
              "      <td>business</td>\n",
              "      <td>0</td>\n",
              "      <td>51649.244</td>\n",
              "      <td>purchase of my own house</td>\n",
              "    </tr>\n",
              "    <tr>\n",
              "      <th>21517</th>\n",
              "      <td>0</td>\n",
              "      <td>-404.679034</td>\n",
              "      <td>42</td>\n",
              "      <td>bachelor's degree</td>\n",
              "      <td>0</td>\n",
              "      <td>civil partnership</td>\n",
              "      <td>1</td>\n",
              "      <td>F</td>\n",
              "      <td>business</td>\n",
              "      <td>0</td>\n",
              "      <td>28489.529</td>\n",
              "      <td>buying my own car</td>\n",
              "    </tr>\n",
              "    <tr>\n",
              "      <th>21518</th>\n",
              "      <td>0</td>\n",
              "      <td>373995.710838</td>\n",
              "      <td>59</td>\n",
              "      <td>SECONDARY EDUCATION</td>\n",
              "      <td>1</td>\n",
              "      <td>married</td>\n",
              "      <td>0</td>\n",
              "      <td>F</td>\n",
              "      <td>retiree</td>\n",
              "      <td>0</td>\n",
              "      <td>24618.344</td>\n",
              "      <td>purchase of a car</td>\n",
              "    </tr>\n",
              "    <tr>\n",
              "      <th>21519</th>\n",
              "      <td>1</td>\n",
              "      <td>-2351.431934</td>\n",
              "      <td>37</td>\n",
              "      <td>graduate degree</td>\n",
              "      <td>4</td>\n",
              "      <td>divorced</td>\n",
              "      <td>3</td>\n",
              "      <td>M</td>\n",
              "      <td>employee</td>\n",
              "      <td>0</td>\n",
              "      <td>18551.846</td>\n",
              "      <td>buy commercial real estate</td>\n",
              "    </tr>\n",
              "    <tr>\n",
              "      <th>21520</th>\n",
              "      <td>1</td>\n",
              "      <td>-4529.316663</td>\n",
              "      <td>43</td>\n",
              "      <td>secondary education</td>\n",
              "      <td>1</td>\n",
              "      <td>civil partnership</td>\n",
              "      <td>1</td>\n",
              "      <td>F</td>\n",
              "      <td>business</td>\n",
              "      <td>0</td>\n",
              "      <td>35966.698</td>\n",
              "      <td>housing transactions</td>\n",
              "    </tr>\n",
              "    <tr>\n",
              "      <th>21521</th>\n",
              "      <td>0</td>\n",
              "      <td>343937.404131</td>\n",
              "      <td>67</td>\n",
              "      <td>secondary education</td>\n",
              "      <td>1</td>\n",
              "      <td>married</td>\n",
              "      <td>0</td>\n",
              "      <td>F</td>\n",
              "      <td>retiree</td>\n",
              "      <td>0</td>\n",
              "      <td>24959.969</td>\n",
              "      <td>purchase of a car</td>\n",
              "    </tr>\n",
              "    <tr>\n",
              "      <th>21522</th>\n",
              "      <td>1</td>\n",
              "      <td>-2113.346888</td>\n",
              "      <td>38</td>\n",
              "      <td>secondary education</td>\n",
              "      <td>1</td>\n",
              "      <td>civil partnership</td>\n",
              "      <td>1</td>\n",
              "      <td>M</td>\n",
              "      <td>employee</td>\n",
              "      <td>1</td>\n",
              "      <td>14347.610</td>\n",
              "      <td>property</td>\n",
              "    </tr>\n",
              "    <tr>\n",
              "      <th>21523</th>\n",
              "      <td>3</td>\n",
              "      <td>-3112.481705</td>\n",
              "      <td>38</td>\n",
              "      <td>secondary education</td>\n",
              "      <td>1</td>\n",
              "      <td>married</td>\n",
              "      <td>0</td>\n",
              "      <td>M</td>\n",
              "      <td>employee</td>\n",
              "      <td>1</td>\n",
              "      <td>39054.888</td>\n",
              "      <td>buying my own car</td>\n",
              "    </tr>\n",
              "    <tr>\n",
              "      <th>21524</th>\n",
              "      <td>2</td>\n",
              "      <td>-1984.507589</td>\n",
              "      <td>40</td>\n",
              "      <td>secondary education</td>\n",
              "      <td>1</td>\n",
              "      <td>married</td>\n",
              "      <td>0</td>\n",
              "      <td>F</td>\n",
              "      <td>employee</td>\n",
              "      <td>0</td>\n",
              "      <td>13127.587</td>\n",
              "      <td>to buy a car</td>\n",
              "    </tr>\n",
              "  </tbody>\n",
              "</table>\n",
              "</div>"
            ],
            "text/plain": [
              "       children  days_employed  dob_years            education  education_id  \\\n",
              "21515         1    -467.685130         28  secondary education             1   \n",
              "21516         0    -914.391429         42    bachelor's degree             0   \n",
              "21517         0    -404.679034         42    bachelor's degree             0   \n",
              "21518         0  373995.710838         59  SECONDARY EDUCATION             1   \n",
              "21519         1   -2351.431934         37      graduate degree             4   \n",
              "21520         1   -4529.316663         43  secondary education             1   \n",
              "21521         0  343937.404131         67  secondary education             1   \n",
              "21522         1   -2113.346888         38  secondary education             1   \n",
              "21523         3   -3112.481705         38  secondary education             1   \n",
              "21524         2   -1984.507589         40  secondary education             1   \n",
              "\n",
              "           family_status  family_status_id gender income_type  debt  \\\n",
              "21515            married                 0      F    employee     1   \n",
              "21516            married                 0      F    business     0   \n",
              "21517  civil partnership                 1      F    business     0   \n",
              "21518            married                 0      F     retiree     0   \n",
              "21519           divorced                 3      M    employee     0   \n",
              "21520  civil partnership                 1      F    business     0   \n",
              "21521            married                 0      F     retiree     0   \n",
              "21522  civil partnership                 1      M    employee     1   \n",
              "21523            married                 0      M    employee     1   \n",
              "21524            married                 0      F    employee     0   \n",
              "\n",
              "       total_income                     purpose  \n",
              "21515     17517.812          to become educated  \n",
              "21516     51649.244    purchase of my own house  \n",
              "21517     28489.529           buying my own car  \n",
              "21518     24618.344           purchase of a car  \n",
              "21519     18551.846  buy commercial real estate  \n",
              "21520     35966.698        housing transactions  \n",
              "21521     24959.969           purchase of a car  \n",
              "21522     14347.610                    property  \n",
              "21523     39054.888           buying my own car  \n",
              "21524     13127.587                to buy a car  "
            ]
          },
          "execution_count": 5,
          "metadata": {},
          "output_type": "execute_result"
        }
      ],
      "source": [
        "# Verifcicando as últimas 10 linhas\n",
        "df.tail(10)"
      ]
    },
    {
      "cell_type": "markdown",
      "metadata": {
        "id": "_rM16G6j6x23"
      },
      "source": [
        "Nas primeiras e últimas 10 linhas não foi verificado nenhum dado faltante. Mas é possível ver que os dados estão com problemas, na coluna \"days_employed\" existem números negativos (essa coluna pode tem muitos erros, como dados faltantes e números negativos), em \"education\" tem variação de maiúsculas e minúsculas, e em \"purpose\" tem objetivos semelhantes mas descritos diferentes."
      ]
    },
    {
      "cell_type": "markdown",
      "metadata": {
        "id": "ZDpV8Km96x23"
      },
      "source": [
        "### Para comerçar a análise, vou verificar os dados faltantes na coluna \"days_employed\"."
      ]
    },
    {
      "cell_type": "code",
      "execution_count": null,
      "metadata": {
        "scrolled": true,
        "id": "Hnxjz1846x23",
        "outputId": "05156411-ddd7-4db9-f4d2-b0f0de1ad16b"
      },
      "outputs": [
        {
          "data": {
            "text/html": [
              "<div>\n",
              "<style scoped>\n",
              "    .dataframe tbody tr th:only-of-type {\n",
              "        vertical-align: middle;\n",
              "    }\n",
              "\n",
              "    .dataframe tbody tr th {\n",
              "        vertical-align: top;\n",
              "    }\n",
              "\n",
              "    .dataframe thead th {\n",
              "        text-align: right;\n",
              "    }\n",
              "</style>\n",
              "<table border=\"1\" class=\"dataframe\">\n",
              "  <thead>\n",
              "    <tr style=\"text-align: right;\">\n",
              "      <th></th>\n",
              "      <th>children</th>\n",
              "      <th>days_employed</th>\n",
              "      <th>dob_years</th>\n",
              "      <th>education</th>\n",
              "      <th>education_id</th>\n",
              "      <th>family_status</th>\n",
              "      <th>family_status_id</th>\n",
              "      <th>gender</th>\n",
              "      <th>income_type</th>\n",
              "      <th>debt</th>\n",
              "      <th>total_income</th>\n",
              "      <th>purpose</th>\n",
              "    </tr>\n",
              "  </thead>\n",
              "  <tbody>\n",
              "    <tr>\n",
              "      <th>12</th>\n",
              "      <td>0</td>\n",
              "      <td>NaN</td>\n",
              "      <td>65</td>\n",
              "      <td>secondary education</td>\n",
              "      <td>1</td>\n",
              "      <td>civil partnership</td>\n",
              "      <td>1</td>\n",
              "      <td>M</td>\n",
              "      <td>retiree</td>\n",
              "      <td>0</td>\n",
              "      <td>NaN</td>\n",
              "      <td>to have a wedding</td>\n",
              "    </tr>\n",
              "    <tr>\n",
              "      <th>26</th>\n",
              "      <td>0</td>\n",
              "      <td>NaN</td>\n",
              "      <td>41</td>\n",
              "      <td>secondary education</td>\n",
              "      <td>1</td>\n",
              "      <td>married</td>\n",
              "      <td>0</td>\n",
              "      <td>M</td>\n",
              "      <td>civil servant</td>\n",
              "      <td>0</td>\n",
              "      <td>NaN</td>\n",
              "      <td>education</td>\n",
              "    </tr>\n",
              "    <tr>\n",
              "      <th>29</th>\n",
              "      <td>0</td>\n",
              "      <td>NaN</td>\n",
              "      <td>63</td>\n",
              "      <td>secondary education</td>\n",
              "      <td>1</td>\n",
              "      <td>unmarried</td>\n",
              "      <td>4</td>\n",
              "      <td>F</td>\n",
              "      <td>retiree</td>\n",
              "      <td>0</td>\n",
              "      <td>NaN</td>\n",
              "      <td>building a real estate</td>\n",
              "    </tr>\n",
              "    <tr>\n",
              "      <th>41</th>\n",
              "      <td>0</td>\n",
              "      <td>NaN</td>\n",
              "      <td>50</td>\n",
              "      <td>secondary education</td>\n",
              "      <td>1</td>\n",
              "      <td>married</td>\n",
              "      <td>0</td>\n",
              "      <td>F</td>\n",
              "      <td>civil servant</td>\n",
              "      <td>0</td>\n",
              "      <td>NaN</td>\n",
              "      <td>second-hand car purchase</td>\n",
              "    </tr>\n",
              "    <tr>\n",
              "      <th>55</th>\n",
              "      <td>0</td>\n",
              "      <td>NaN</td>\n",
              "      <td>54</td>\n",
              "      <td>secondary education</td>\n",
              "      <td>1</td>\n",
              "      <td>civil partnership</td>\n",
              "      <td>1</td>\n",
              "      <td>F</td>\n",
              "      <td>retiree</td>\n",
              "      <td>1</td>\n",
              "      <td>NaN</td>\n",
              "      <td>to have a wedding</td>\n",
              "    </tr>\n",
              "    <tr>\n",
              "      <th>...</th>\n",
              "      <td>...</td>\n",
              "      <td>...</td>\n",
              "      <td>...</td>\n",
              "      <td>...</td>\n",
              "      <td>...</td>\n",
              "      <td>...</td>\n",
              "      <td>...</td>\n",
              "      <td>...</td>\n",
              "      <td>...</td>\n",
              "      <td>...</td>\n",
              "      <td>...</td>\n",
              "      <td>...</td>\n",
              "    </tr>\n",
              "    <tr>\n",
              "      <th>21489</th>\n",
              "      <td>2</td>\n",
              "      <td>NaN</td>\n",
              "      <td>47</td>\n",
              "      <td>Secondary Education</td>\n",
              "      <td>1</td>\n",
              "      <td>married</td>\n",
              "      <td>0</td>\n",
              "      <td>M</td>\n",
              "      <td>business</td>\n",
              "      <td>0</td>\n",
              "      <td>NaN</td>\n",
              "      <td>purchase of a car</td>\n",
              "    </tr>\n",
              "    <tr>\n",
              "      <th>21495</th>\n",
              "      <td>1</td>\n",
              "      <td>NaN</td>\n",
              "      <td>50</td>\n",
              "      <td>secondary education</td>\n",
              "      <td>1</td>\n",
              "      <td>civil partnership</td>\n",
              "      <td>1</td>\n",
              "      <td>F</td>\n",
              "      <td>employee</td>\n",
              "      <td>0</td>\n",
              "      <td>NaN</td>\n",
              "      <td>wedding ceremony</td>\n",
              "    </tr>\n",
              "    <tr>\n",
              "      <th>21497</th>\n",
              "      <td>0</td>\n",
              "      <td>NaN</td>\n",
              "      <td>48</td>\n",
              "      <td>BACHELOR'S DEGREE</td>\n",
              "      <td>0</td>\n",
              "      <td>married</td>\n",
              "      <td>0</td>\n",
              "      <td>F</td>\n",
              "      <td>business</td>\n",
              "      <td>0</td>\n",
              "      <td>NaN</td>\n",
              "      <td>building a property</td>\n",
              "    </tr>\n",
              "    <tr>\n",
              "      <th>21502</th>\n",
              "      <td>1</td>\n",
              "      <td>NaN</td>\n",
              "      <td>42</td>\n",
              "      <td>secondary education</td>\n",
              "      <td>1</td>\n",
              "      <td>married</td>\n",
              "      <td>0</td>\n",
              "      <td>F</td>\n",
              "      <td>employee</td>\n",
              "      <td>0</td>\n",
              "      <td>NaN</td>\n",
              "      <td>building a real estate</td>\n",
              "    </tr>\n",
              "    <tr>\n",
              "      <th>21510</th>\n",
              "      <td>2</td>\n",
              "      <td>NaN</td>\n",
              "      <td>28</td>\n",
              "      <td>secondary education</td>\n",
              "      <td>1</td>\n",
              "      <td>married</td>\n",
              "      <td>0</td>\n",
              "      <td>F</td>\n",
              "      <td>employee</td>\n",
              "      <td>0</td>\n",
              "      <td>NaN</td>\n",
              "      <td>car purchase</td>\n",
              "    </tr>\n",
              "  </tbody>\n",
              "</table>\n",
              "<p>2174 rows × 12 columns</p>\n",
              "</div>"
            ],
            "text/plain": [
              "       children  days_employed  dob_years            education  education_id  \\\n",
              "12            0            NaN         65  secondary education             1   \n",
              "26            0            NaN         41  secondary education             1   \n",
              "29            0            NaN         63  secondary education             1   \n",
              "41            0            NaN         50  secondary education             1   \n",
              "55            0            NaN         54  secondary education             1   \n",
              "...         ...            ...        ...                  ...           ...   \n",
              "21489         2            NaN         47  Secondary Education             1   \n",
              "21495         1            NaN         50  secondary education             1   \n",
              "21497         0            NaN         48    BACHELOR'S DEGREE             0   \n",
              "21502         1            NaN         42  secondary education             1   \n",
              "21510         2            NaN         28  secondary education             1   \n",
              "\n",
              "           family_status  family_status_id gender    income_type  debt  \\\n",
              "12     civil partnership                 1      M        retiree     0   \n",
              "26               married                 0      M  civil servant     0   \n",
              "29             unmarried                 4      F        retiree     0   \n",
              "41               married                 0      F  civil servant     0   \n",
              "55     civil partnership                 1      F        retiree     1   \n",
              "...                  ...               ...    ...            ...   ...   \n",
              "21489            married                 0      M       business     0   \n",
              "21495  civil partnership                 1      F       employee     0   \n",
              "21497            married                 0      F       business     0   \n",
              "21502            married                 0      F       employee     0   \n",
              "21510            married                 0      F       employee     0   \n",
              "\n",
              "       total_income                   purpose  \n",
              "12              NaN         to have a wedding  \n",
              "26              NaN                 education  \n",
              "29              NaN    building a real estate  \n",
              "41              NaN  second-hand car purchase  \n",
              "55              NaN         to have a wedding  \n",
              "...             ...                       ...  \n",
              "21489           NaN         purchase of a car  \n",
              "21495           NaN          wedding ceremony  \n",
              "21497           NaN       building a property  \n",
              "21502           NaN    building a real estate  \n",
              "21510           NaN              car purchase  \n",
              "\n",
              "[2174 rows x 12 columns]"
            ]
          },
          "execution_count": 6,
          "metadata": {},
          "output_type": "execute_result"
        }
      ],
      "source": [
        "# Vejamos a tabela filtrada com valores ausentes na primeira coluna com dados ausentes\n",
        "df[df['days_employed'].isna()]"
      ]
    },
    {
      "cell_type": "markdown",
      "metadata": {
        "id": "DcePIZM26x23"
      },
      "source": [
        "Por uma análise rápida, os dados da coluna \"days_employed\" possuem algumas simularidades, como em sua maioria serem pessoas acima de 40 anos, com escolaridade \"secondary education\", não possíam dívidas no pagamento do empréstimo e possuírem valores ausentes também na coluna \"total_income\"."
      ]
    },
    {
      "cell_type": "markdown",
      "metadata": {
        "id": "evIcdwZX6x23"
      },
      "source": [
        "#### Procurando relações com os dados faltantes em \"days_employed\""
      ]
    },
    {
      "cell_type": "code",
      "execution_count": null,
      "metadata": {
        "id": "OBDD4IpG6x23",
        "outputId": "9f428594-6896-46e7-a6f8-df63745853c6"
      },
      "outputs": [
        {
          "data": {
            "text/plain": [
              "False    19351\n",
              "True      2174\n",
              "Name: days_employed, dtype: int64"
            ]
          },
          "execution_count": 7,
          "metadata": {},
          "output_type": "execute_result"
        }
      ],
      "source": [
        "# Descobrindo o número de dados faltantes\n",
        "df['days_employed'].isna().value_counts()"
      ]
    },
    {
      "cell_type": "markdown",
      "metadata": {
        "id": "6-Z6dDry6x23"
      },
      "source": [
        "É possível perceber que temos 2174 linhas faltantes na coluna analisada.\n",
        "\n",
        "Para continuar a análise, vamos relacionar com demais colunas e procurar uma relação."
      ]
    },
    {
      "cell_type": "code",
      "execution_count": null,
      "metadata": {
        "id": "pMRzi-tY6x23",
        "outputId": "bf73c50b-5888-49d0-92a7-599d7b368720"
      },
      "outputs": [
        {
          "data": {
            "text/plain": [
              "secondary education    1408\n",
              "bachelor's degree       496\n",
              "SECONDARY EDUCATION      67\n",
              "Secondary Education      65\n",
              "some college             55\n",
              "Bachelor's Degree        25\n",
              "BACHELOR'S DEGREE        23\n",
              "primary education        19\n",
              "SOME COLLEGE              7\n",
              "Some College              7\n",
              "Primary Education         1\n",
              "PRIMARY EDUCATION         1\n",
              "Name: education, dtype: int64"
            ]
          },
          "execution_count": 8,
          "metadata": {},
          "output_type": "execute_result"
        }
      ],
      "source": [
        "# Verificando com a coluna \"education\"\n",
        "df[df['days_employed'].isna()]['education'].value_counts()"
      ]
    },
    {
      "cell_type": "code",
      "execution_count": null,
      "metadata": {
        "id": "6SXDDppj6x24",
        "outputId": "5856b74d-e1cb-4c92-e2a2-a9400dc9685d"
      },
      "outputs": [
        {
          "data": {
            "text/plain": [
              "1    1540\n",
              "0     544\n",
              "2      69\n",
              "3      21\n",
              "Name: education_id, dtype: int64"
            ]
          },
          "execution_count": 9,
          "metadata": {},
          "output_type": "execute_result"
        }
      ],
      "source": [
        "df[df['days_employed'].isna()]['education_id'].value_counts(dropna=False)"
      ]
    },
    {
      "cell_type": "code",
      "execution_count": null,
      "metadata": {
        "id": "1kb_bZVr6x24",
        "outputId": "ae2a61a0-7dcd-42e5-cd36-ed2d88ad513c"
      },
      "outputs": [
        {
          "data": {
            "text/plain": [
              "0    1237\n",
              "1     442\n",
              "4     288\n",
              "3     112\n",
              "2      95\n",
              "Name: family_status_id, dtype: int64"
            ]
          },
          "execution_count": 10,
          "metadata": {},
          "output_type": "execute_result"
        }
      ],
      "source": [
        "df[df['days_employed'].isna()]['family_status_id'].value_counts(dropna=False)"
      ]
    },
    {
      "cell_type": "code",
      "execution_count": null,
      "metadata": {
        "id": "7HU_r4wG6x24",
        "outputId": "c8f53c6b-6330-454b-ce13-252a70477bfe"
      },
      "outputs": [
        {
          "data": {
            "text/plain": [
              "34    69\n",
              "40    66\n",
              "31    65\n",
              "42    65\n",
              "35    64\n",
              "36    63\n",
              "47    59\n",
              "41    59\n",
              "30    58\n",
              "28    57\n",
              "57    56\n",
              "58    56\n",
              "54    55\n",
              "38    54\n",
              "56    54\n",
              "37    53\n",
              "52    53\n",
              "39    51\n",
              "33    51\n",
              "50    51\n",
              "51    50\n",
              "45    50\n",
              "49    50\n",
              "29    50\n",
              "43    50\n",
              "46    48\n",
              "55    48\n",
              "48    46\n",
              "53    44\n",
              "44    44\n",
              "60    39\n",
              "61    38\n",
              "62    38\n",
              "64    37\n",
              "32    37\n",
              "27    36\n",
              "23    36\n",
              "26    35\n",
              "59    34\n",
              "63    29\n",
              "25    23\n",
              "24    21\n",
              "66    20\n",
              "65    20\n",
              "21    18\n",
              "22    17\n",
              "67    16\n",
              "0     10\n",
              "68     9\n",
              "69     5\n",
              "20     5\n",
              "71     5\n",
              "70     3\n",
              "72     2\n",
              "19     1\n",
              "73     1\n",
              "Name: dob_years, dtype: int64"
            ]
          },
          "execution_count": 11,
          "metadata": {},
          "output_type": "execute_result"
        }
      ],
      "source": [
        "# Verificando com a coluna \"dob_years\"\n",
        "df[df['days_employed'].isna()]['dob_years'].value_counts()"
      ]
    },
    {
      "cell_type": "code",
      "execution_count": null,
      "metadata": {
        "id": "EML9Txl-6x24",
        "outputId": "86cfd8b3-41a1-4e4e-abde-597b06c3c5e6"
      },
      "outputs": [
        {
          "data": {
            "text/plain": [
              "0    2004\n",
              "1     170\n",
              "Name: debt, dtype: int64"
            ]
          },
          "execution_count": 12,
          "metadata": {},
          "output_type": "execute_result"
        }
      ],
      "source": [
        "# Verificando com a coluna \"debt\"\n",
        "df[df['days_employed'].isna()]['debt'].value_counts()"
      ]
    },
    {
      "cell_type": "code",
      "execution_count": null,
      "metadata": {
        "id": "xoxRwtNS6x24",
        "outputId": "1afdcf3b-2234-45d5-f6a4-faeda96500a4"
      },
      "outputs": [
        {
          "data": {
            "text/plain": [
              "F    1484\n",
              "M     690\n",
              "Name: gender, dtype: int64"
            ]
          },
          "execution_count": 13,
          "metadata": {},
          "output_type": "execute_result"
        }
      ],
      "source": [
        "# Verificando com a coluna \"gender\"\n",
        "df[df['days_employed'].isna()]['gender'].value_counts()"
      ]
    },
    {
      "cell_type": "code",
      "execution_count": null,
      "metadata": {
        "id": "Q5OkNLGC6x24",
        "outputId": "d8cccbbc-9bed-43c7-f67b-fdbbbabac869"
      },
      "outputs": [
        {
          "data": {
            "text/plain": [
              "having a wedding                            92\n",
              "to have a wedding                           81\n",
              "wedding ceremony                            76\n",
              "construction of own property                75\n",
              "housing transactions                        74\n",
              "buy real estate                             72\n",
              "purchase of the house for my family         71\n",
              "transactions with my real estate            71\n",
              "transactions with commercial real estate    70\n",
              "housing renovation                          70\n",
              "buy commercial real estate                  67\n",
              "buying property for renting out             65\n",
              "property                                    62\n",
              "buy residential real estate                 61\n",
              "real estate transactions                    61\n",
              "housing                                     60\n",
              "building a property                         59\n",
              "cars                                        57\n",
              "going to university                         56\n",
              "to become educated                          55\n",
              "second-hand car purchase                    54\n",
              "buying my own car                           53\n",
              "to own a car                                52\n",
              "purchase of the house                       52\n",
              "to get a supplementary education            51\n",
              "getting an education                        50\n",
              "supplementary education                     48\n",
              "profile education                           47\n",
              "purchase of my own house                    46\n",
              "purchase of a car                           46\n",
              "building a real estate                      46\n",
              "car purchase                                43\n",
              "buying a second-hand car                    42\n",
              "education                                   42\n",
              "car                                         41\n",
              "university education                        40\n",
              "getting higher education                    36\n",
              "to buy a car                                30\n",
              "Name: purpose, dtype: int64"
            ]
          },
          "execution_count": 14,
          "metadata": {},
          "output_type": "execute_result"
        }
      ],
      "source": [
        "# Verificando com a coluna \"purpose\"\n",
        "df[df['days_employed'].isna()]['purpose'].value_counts()"
      ]
    },
    {
      "cell_type": "code",
      "execution_count": null,
      "metadata": {
        "id": "AHU6U89j6x24",
        "outputId": "73cf56fa-0051-4154-a425-35dec466117a"
      },
      "outputs": [
        {
          "data": {
            "text/plain": [
              "employee         1105\n",
              "business          508\n",
              "retiree           413\n",
              "civil servant     147\n",
              "entrepreneur        1\n",
              "Name: income_type, dtype: int64"
            ]
          },
          "execution_count": 15,
          "metadata": {},
          "output_type": "execute_result"
        }
      ],
      "source": [
        "# Verificando com a coluna \"income_type\"\n",
        "df[df['days_employed'].isna()]['income_type'].value_counts()"
      ]
    },
    {
      "cell_type": "code",
      "execution_count": null,
      "metadata": {
        "id": "7TOq_88w6x25",
        "outputId": "be3c407f-cced-4bba-9e2f-f89494ad2a8a"
      },
      "outputs": [
        {
          "data": {
            "text/plain": [
              "NaN    2174\n",
              "Name: total_income, dtype: int64"
            ]
          },
          "execution_count": 16,
          "metadata": {},
          "output_type": "execute_result"
        }
      ],
      "source": [
        "# Verificando com a coluna \"total_income\"\n",
        "df[df['days_employed'].isna()]['total_income'].value_counts(dropna=False)"
      ]
    },
    {
      "cell_type": "code",
      "execution_count": null,
      "metadata": {
        "id": "fR-ZNxUX6x25",
        "outputId": "fdd606c7-77f4-47cf-e734-7e3d3e1cd7ff"
      },
      "outputs": [
        {
          "data": {
            "text/plain": [
              " 0     1439\n",
              " 1      475\n",
              " 2      204\n",
              " 3       36\n",
              " 20       9\n",
              " 4        7\n",
              "-1        3\n",
              " 5        1\n",
              "Name: children, dtype: int64"
            ]
          },
          "execution_count": 17,
          "metadata": {},
          "output_type": "execute_result"
        }
      ],
      "source": [
        "# Verificando com a coluna \"children\"\n",
        "df[df['days_employed'].isna()]['children'].value_counts(dropna=False)"
      ]
    },
    {
      "cell_type": "code",
      "execution_count": null,
      "metadata": {
        "id": "n7qIUASF6x25",
        "outputId": "b1d24e93-c004-4c2b-ec7d-160160331dd2"
      },
      "outputs": [
        {
          "data": {
            "text/plain": [
              "10.099883855981417"
            ]
          },
          "execution_count": 18,
          "metadata": {},
          "output_type": "execute_result"
        }
      ],
      "source": [
        "# Verificando o percentual de dados faltantes na coluna \"days_employed\"\n",
        "df['days_employed'].isna().mean() * 100"
      ]
    },
    {
      "cell_type": "code",
      "execution_count": null,
      "metadata": {
        "id": "_Q11Dfei6x25",
        "outputId": "4a2d26a9-9695-4cf0-96e6-9c3951c6fe29"
      },
      "outputs": [
        {
          "data": {
            "text/plain": [
              "days_employed       0.100999\n",
              "total_income        0.100999\n",
              "children            0.000000\n",
              "dob_years           0.000000\n",
              "education           0.000000\n",
              "education_id        0.000000\n",
              "family_status       0.000000\n",
              "family_status_id    0.000000\n",
              "gender              0.000000\n",
              "income_type         0.000000\n",
              "debt                0.000000\n",
              "purpose             0.000000\n",
              "dtype: float64"
            ]
          },
          "execution_count": 19,
          "metadata": {},
          "output_type": "execute_result"
        }
      ],
      "source": [
        "#Verificando a distribuição dos dados faltantes em todo conjunto de dados\n",
        "df.isna().mean().sort_values(ascending = False)"
      ]
    },
    {
      "cell_type": "markdown",
      "metadata": {
        "id": "YKLpWN3q6x25"
      },
      "source": [
        "**Conclusão intermediária**\n",
        "\n",
        "Pelas análises anteriores a coluna \"days_employed\" possui 10,09% de dados faltantes, ou seja, 2174 linhas. Dessas linhas, pode tirar as seguintes conclusões:\n",
        "\n",
        "* O cliente que possui dados ausentes em \"days_employed\" também possui em \"total_income\"\n",
        "* A porcentagem de linhas com dados ausentes é de 10,09%\n",
        "* A maioria possui esolaridade tipo 1 - Second education\n",
        "* A maioria é do gênero feminino\n",
        "* A grande maioria não possuí dívidas\n",
        "* A maioria possui status da família tipo 0 - casado\n",
        "* A maioria não possui filhos"
      ]
    },
    {
      "cell_type": "markdown",
      "metadata": {
        "id": "UEggSZ6z6x25"
      },
      "source": [
        "**Possíveis motivos para valores ausentes nos dados**\n",
        "\n",
        "Os dados podem estar ausentes por erro de preenchimento humano, pode ser um errro na hora de exportar os dados, ou seja existem dievrsas causas que pode ocasionar os valores ausentes.\n",
        "\n",
        "Pensando em uma relação, perceptível que onde existe dados ausentes na coluna \"days_employed\" também há na coluna \"total_income\", o que é estranho, pois é muita conincidência que vão possuir duas colunas em todo o conjunto de dados com erro e estarem sempre relacionados ao mesmo cliente.\n"
      ]
    },
    {
      "cell_type": "markdown",
      "metadata": {
        "id": "CZboWciE6x25"
      },
      "source": [
        "## Transformação de dados\n",
        "\n",
        "Vamos examinar cada coluna para ver quais problemas podemos ter nelas.\n",
        "\n",
        "Coluna Education"
      ]
    },
    {
      "cell_type": "code",
      "execution_count": null,
      "metadata": {
        "id": "xdHwDZdh6x25",
        "outputId": "e0dcd512-0450-4508-aa18-84e3725c5111"
      },
      "outputs": [
        {
          "data": {
            "text/plain": [
              "array([\"bachelor's degree\", 'secondary education', 'Secondary Education',\n",
              "       'SECONDARY EDUCATION', \"BACHELOR'S DEGREE\", 'some college',\n",
              "       'primary education', \"Bachelor's Degree\", 'SOME COLLEGE',\n",
              "       'Some College', 'PRIMARY EDUCATION', 'Primary Education',\n",
              "       'Graduate Degree', 'GRADUATE DEGREE', 'graduate degree'],\n",
              "      dtype=object)"
            ]
          },
          "execution_count": 20,
          "metadata": {},
          "output_type": "execute_result"
        }
      ],
      "source": [
        "# Vamos ver todos os valores na coluna de educação para verificar se e quais grafias precisarão ser corrigidas\n",
        "df['education'].unique()"
      ]
    },
    {
      "cell_type": "code",
      "execution_count": null,
      "metadata": {
        "scrolled": true,
        "id": "Vo_fK5ZJ6x25"
      },
      "outputs": [],
      "source": [
        "# Corrija os registros, se necessário\n",
        "df['education'] = df['education'].str.lower()"
      ]
    },
    {
      "cell_type": "code",
      "execution_count": null,
      "metadata": {
        "id": "KkII0kwS6x26",
        "outputId": "8aebdbc3-3cb9-4679-c7f8-ef9048160941"
      },
      "outputs": [
        {
          "data": {
            "text/plain": [
              "array([\"bachelor's degree\", 'secondary education', 'some college',\n",
              "       'primary education', 'graduate degree'], dtype=object)"
            ]
          },
          "execution_count": 22,
          "metadata": {},
          "output_type": "execute_result"
        }
      ],
      "source": [
        "# Verificando todos os valores na coluna para ter certeza de que os corrigimos\n",
        "\n",
        "df['education'].unique()"
      ]
    },
    {
      "cell_type": "markdown",
      "metadata": {
        "id": "1o5Rnl8E6x26"
      },
      "source": [
        "Coluna `children`"
      ]
    },
    {
      "cell_type": "code",
      "execution_count": null,
      "metadata": {
        "id": "O70WT10t6x26",
        "outputId": "031b671a-7427-49e5-8713-080345e64e4a"
      },
      "outputs": [
        {
          "data": {
            "text/plain": [
              "array([ 1,  0,  3,  2, -1,  4, 20,  5])"
            ]
          },
          "execution_count": 23,
          "metadata": {},
          "output_type": "execute_result"
        }
      ],
      "source": [
        "# Vamos ver a distribuição de valores na coluna `children`\n",
        "df['children'].unique()"
      ]
    },
    {
      "cell_type": "code",
      "execution_count": null,
      "metadata": {
        "id": "rCbLbqDj6x26",
        "outputId": "29254204-3cf1-4556-9ddd-15f13ce051cc"
      },
      "outputs": [
        {
          "data": {
            "text/plain": [
              "children\n",
              "-1        47\n",
              " 0     14149\n",
              " 1      4818\n",
              " 2      2055\n",
              " 3       330\n",
              " 4        41\n",
              " 5         9\n",
              " 20       76\n",
              "Name: education, dtype: int64"
            ]
          },
          "execution_count": 24,
          "metadata": {},
          "output_type": "execute_result"
        }
      ],
      "source": [
        "df.groupby('children')['education'].count()"
      ]
    },
    {
      "cell_type": "code",
      "execution_count": null,
      "metadata": {
        "id": "7f-CCSsl6x27",
        "outputId": "68a7eaa7-acae-4e03-c4a1-85d738d700df"
      },
      "outputs": [
        {
          "data": {
            "text/plain": [
              "children\n",
              "-1     0.002184\n",
              " 0     0.657329\n",
              " 1     0.223833\n",
              " 2     0.095470\n",
              " 3     0.015331\n",
              " 4     0.001905\n",
              " 5     0.000418\n",
              " 20    0.003531\n",
              "Name: education, dtype: float64"
            ]
          },
          "execution_count": 25,
          "metadata": {},
          "output_type": "execute_result"
        }
      ],
      "source": [
        "df.groupby('children')['education'].count()/ df['children'].count()"
      ]
    },
    {
      "cell_type": "code",
      "execution_count": null,
      "metadata": {
        "id": "bxn9cqXb6x27",
        "outputId": "43673cda-7c78-4bf0-ac6f-cf6b1baa7bbf"
      },
      "outputs": [
        {
          "data": {
            "text/plain": [
              "0.5389082462253194"
            ]
          },
          "execution_count": 26,
          "metadata": {},
          "output_type": "execute_result"
        }
      ],
      "source": [
        "df['children'].mean()"
      ]
    },
    {
      "cell_type": "code",
      "execution_count": null,
      "metadata": {
        "id": "AhTWa-YH6x27",
        "outputId": "fdac8419-c31b-433a-af69-f7246121b9bf"
      },
      "outputs": [
        {
          "data": {
            "text/plain": [
              "0.0"
            ]
          },
          "execution_count": 27,
          "metadata": {},
          "output_type": "execute_result"
        }
      ],
      "source": [
        "df['children'].median()"
      ]
    },
    {
      "cell_type": "markdown",
      "metadata": {
        "id": "bEWF_jOG6x27"
      },
      "source": [
        "Existem dados nessa coluna que possuem valores negativos e valores muito acima do padrão apresentado (20). Representam pouco, 0,2% e 0,3% respectivamente. Pode ser um erro de digitação, ou por carregamento. Vou alterar todos os dados negativos para seu valor positivo, e para os valores de 20 vou utilizar a mediana que representa a maior parte dos valores da coluna."
      ]
    },
    {
      "cell_type": "code",
      "execution_count": null,
      "metadata": {
        "id": "ynMi277T6x27"
      },
      "outputs": [],
      "source": [
        "# Revertendo valores negativos para seus respectivos positivos\n",
        "df['children'] = df['children'].replace(-1 , 1)"
      ]
    },
    {
      "cell_type": "code",
      "execution_count": null,
      "metadata": {
        "id": "pQCe6jcf6x27"
      },
      "outputs": [],
      "source": [
        "# Retirando valores extremos (20) e colocando\n",
        "df['children'] = df['children'].replace(20 , 0)"
      ]
    },
    {
      "cell_type": "code",
      "execution_count": null,
      "metadata": {
        "id": "cIYi0m8S6x27",
        "outputId": "71cab9e9-6f9c-4bc2-b3e6-ae606c22a019"
      },
      "outputs": [
        {
          "data": {
            "text/plain": [
              "array([1, 0, 3, 2, 4, 5])"
            ]
          },
          "execution_count": 30,
          "metadata": {},
          "output_type": "execute_result"
        }
      ],
      "source": [
        "# Verificar a coluna `children` novamente para ter certeza de que está tudo corrigido\n",
        "\n",
        "df['children'].unique()"
      ]
    },
    {
      "cell_type": "code",
      "execution_count": null,
      "metadata": {
        "id": "IjZYHEH56x27",
        "outputId": "4bb9c5ae-c9cc-4d0f-f452-7ca5f6313b72"
      },
      "outputs": [
        {
          "data": {
            "text/plain": [
              "children\n",
              "0    0.660859\n",
              "1    0.226016\n",
              "2    0.095470\n",
              "3    0.015331\n",
              "4    0.001905\n",
              "5    0.000418\n",
              "Name: education, dtype: float64"
            ]
          },
          "execution_count": 31,
          "metadata": {},
          "output_type": "execute_result"
        }
      ],
      "source": [
        "df.groupby('children')['education'].count()/ df['children'].count()"
      ]
    },
    {
      "cell_type": "markdown",
      "metadata": {
        "id": "ua9Gq1IG6x28"
      },
      "source": [
        "Coluna `days_employed`."
      ]
    },
    {
      "cell_type": "code",
      "execution_count": null,
      "metadata": {
        "id": "01w92gAo6x28",
        "outputId": "7ea4963e-20d8-4c51-d99e-9e52dbb10d3c"
      },
      "outputs": [
        {
          "data": {
            "text/plain": [
              "False    19351\n",
              "True      2174\n",
              "Name: days_employed, dtype: int64"
            ]
          },
          "execution_count": 32,
          "metadata": {},
          "output_type": "execute_result"
        }
      ],
      "source": [
        "# Encontre dados problemáticos em `days_employed`, se existirem, e calcule a porcentagem\n",
        "df['days_employed'].isna().value_counts()"
      ]
    },
    {
      "cell_type": "code",
      "execution_count": null,
      "metadata": {
        "id": "DjfWsY1Y6x28",
        "outputId": "77b4781b-2c5c-4da5-e4c4-9cd850c8bc57"
      },
      "outputs": [
        {
          "data": {
            "text/plain": [
              "0.10099883855981417"
            ]
          },
          "execution_count": 33,
          "metadata": {},
          "output_type": "execute_result"
        }
      ],
      "source": [
        "# Calculando a média de valores ausentes\n",
        "df['days_employed'].isna().mean()"
      ]
    },
    {
      "cell_type": "code",
      "execution_count": null,
      "metadata": {
        "id": "9qnhq1ZC6x28",
        "outputId": "b1893bea-1cc5-4b2b-e90a-4031f146a071"
      },
      "outputs": [
        {
          "data": {
            "text/plain": [
              "array([-8437.67302776, -4024.80375385, -5623.42261023, ...,\n",
              "       -2113.3468877 , -3112.4817052 , -1984.50758853])"
            ]
          },
          "execution_count": 34,
          "metadata": {},
          "output_type": "execute_result"
        }
      ],
      "source": [
        "df['days_employed'].unique()"
      ]
    },
    {
      "cell_type": "code",
      "execution_count": null,
      "metadata": {
        "id": "DC4avfep6x28",
        "outputId": "c1a0405a-7471-4382-8d96-a8be02da6c30"
      },
      "outputs": [
        {
          "data": {
            "text/plain": [
              "15906"
            ]
          },
          "execution_count": 35,
          "metadata": {},
          "output_type": "execute_result"
        }
      ],
      "source": [
        "# Contando a quantidade de valores ausentes\n",
        "df[df['days_employed']<0].value_counts().count()\n"
      ]
    },
    {
      "cell_type": "markdown",
      "metadata": {
        "id": "RvpkuKLu6x28"
      },
      "source": [
        "Existem dados faltantes na coluna e eles representam 10% dos dados.\n",
        "Além disso temos dados negativos, que podem ser ocasionados devido a erro técnico. Vou arrumar alterando de negativo para positivo.\n"
      ]
    },
    {
      "cell_type": "code",
      "execution_count": null,
      "metadata": {
        "id": "qfxYFCfE6x28"
      },
      "outputs": [],
      "source": [
        "# Transformando os valores negativosem seus respectivos valores positivos\n",
        "df['days_employed'] = df['days_employed'].abs()\n"
      ]
    },
    {
      "cell_type": "code",
      "execution_count": null,
      "metadata": {
        "id": "9qS6KF0F6x28",
        "outputId": "cdf69fdf-c3d0-4711-f809-d9088608250b"
      },
      "outputs": [
        {
          "data": {
            "text/plain": [
              "array([8437.67302776, 4024.80375385, 5623.42261023, ..., 2113.3468877 ,\n",
              "       3112.4817052 , 1984.50758853])"
            ]
          },
          "execution_count": 37,
          "metadata": {},
          "output_type": "execute_result"
        }
      ],
      "source": [
        "# Verifique o resultado\n",
        "df['days_employed'].unique()"
      ]
    },
    {
      "cell_type": "code",
      "execution_count": null,
      "metadata": {
        "id": "_9q9TWEk6x29",
        "outputId": "afe4bc2d-420e-4717-f65f-1d1bd51609ba"
      },
      "outputs": [
        {
          "data": {
            "text/html": [
              "<div>\n",
              "<style scoped>\n",
              "    .dataframe tbody tr th:only-of-type {\n",
              "        vertical-align: middle;\n",
              "    }\n",
              "\n",
              "    .dataframe tbody tr th {\n",
              "        vertical-align: top;\n",
              "    }\n",
              "\n",
              "    .dataframe thead th {\n",
              "        text-align: right;\n",
              "    }\n",
              "</style>\n",
              "<table border=\"1\" class=\"dataframe\">\n",
              "  <thead>\n",
              "    <tr style=\"text-align: right;\">\n",
              "      <th></th>\n",
              "      <th>children</th>\n",
              "      <th>days_employed</th>\n",
              "      <th>dob_years</th>\n",
              "      <th>education_id</th>\n",
              "      <th>family_status_id</th>\n",
              "      <th>debt</th>\n",
              "      <th>total_income</th>\n",
              "    </tr>\n",
              "  </thead>\n",
              "  <tbody>\n",
              "    <tr>\n",
              "      <th>count</th>\n",
              "      <td>21525.000000</td>\n",
              "      <td>19351.000000</td>\n",
              "      <td>21525.000000</td>\n",
              "      <td>21525.000000</td>\n",
              "      <td>21525.000000</td>\n",
              "      <td>21525.000000</td>\n",
              "      <td>19351.000000</td>\n",
              "    </tr>\n",
              "    <tr>\n",
              "      <th>mean</th>\n",
              "      <td>0.472660</td>\n",
              "      <td>66914.728907</td>\n",
              "      <td>43.293380</td>\n",
              "      <td>0.817236</td>\n",
              "      <td>0.972544</td>\n",
              "      <td>0.080883</td>\n",
              "      <td>26787.568355</td>\n",
              "    </tr>\n",
              "    <tr>\n",
              "      <th>std</th>\n",
              "      <td>0.750616</td>\n",
              "      <td>139030.880527</td>\n",
              "      <td>12.574584</td>\n",
              "      <td>0.548138</td>\n",
              "      <td>1.420324</td>\n",
              "      <td>0.272661</td>\n",
              "      <td>16475.450632</td>\n",
              "    </tr>\n",
              "    <tr>\n",
              "      <th>min</th>\n",
              "      <td>0.000000</td>\n",
              "      <td>24.141633</td>\n",
              "      <td>0.000000</td>\n",
              "      <td>0.000000</td>\n",
              "      <td>0.000000</td>\n",
              "      <td>0.000000</td>\n",
              "      <td>3306.762000</td>\n",
              "    </tr>\n",
              "    <tr>\n",
              "      <th>25%</th>\n",
              "      <td>0.000000</td>\n",
              "      <td>927.009265</td>\n",
              "      <td>33.000000</td>\n",
              "      <td>1.000000</td>\n",
              "      <td>0.000000</td>\n",
              "      <td>0.000000</td>\n",
              "      <td>16488.504500</td>\n",
              "    </tr>\n",
              "    <tr>\n",
              "      <th>50%</th>\n",
              "      <td>0.000000</td>\n",
              "      <td>2194.220567</td>\n",
              "      <td>42.000000</td>\n",
              "      <td>1.000000</td>\n",
              "      <td>0.000000</td>\n",
              "      <td>0.000000</td>\n",
              "      <td>23202.870000</td>\n",
              "    </tr>\n",
              "    <tr>\n",
              "      <th>75%</th>\n",
              "      <td>1.000000</td>\n",
              "      <td>5537.882441</td>\n",
              "      <td>53.000000</td>\n",
              "      <td>1.000000</td>\n",
              "      <td>1.000000</td>\n",
              "      <td>0.000000</td>\n",
              "      <td>32549.611000</td>\n",
              "    </tr>\n",
              "    <tr>\n",
              "      <th>max</th>\n",
              "      <td>5.000000</td>\n",
              "      <td>401755.400475</td>\n",
              "      <td>75.000000</td>\n",
              "      <td>4.000000</td>\n",
              "      <td>4.000000</td>\n",
              "      <td>1.000000</td>\n",
              "      <td>362496.645000</td>\n",
              "    </tr>\n",
              "  </tbody>\n",
              "</table>\n",
              "</div>"
            ],
            "text/plain": [
              "           children  days_employed     dob_years  education_id  \\\n",
              "count  21525.000000   19351.000000  21525.000000  21525.000000   \n",
              "mean       0.472660   66914.728907     43.293380      0.817236   \n",
              "std        0.750616  139030.880527     12.574584      0.548138   \n",
              "min        0.000000      24.141633      0.000000      0.000000   \n",
              "25%        0.000000     927.009265     33.000000      1.000000   \n",
              "50%        0.000000    2194.220567     42.000000      1.000000   \n",
              "75%        1.000000    5537.882441     53.000000      1.000000   \n",
              "max        5.000000  401755.400475     75.000000      4.000000   \n",
              "\n",
              "       family_status_id          debt   total_income  \n",
              "count      21525.000000  21525.000000   19351.000000  \n",
              "mean           0.972544      0.080883   26787.568355  \n",
              "std            1.420324      0.272661   16475.450632  \n",
              "min            0.000000      0.000000    3306.762000  \n",
              "25%            0.000000      0.000000   16488.504500  \n",
              "50%            0.000000      0.000000   23202.870000  \n",
              "75%            1.000000      0.000000   32549.611000  \n",
              "max            4.000000      1.000000  362496.645000  "
            ]
          },
          "execution_count": 38,
          "metadata": {},
          "output_type": "execute_result"
        }
      ],
      "source": [
        "df.describe()"
      ]
    },
    {
      "cell_type": "markdown",
      "metadata": {
        "id": "jlIBiWGc6x29"
      },
      "source": [
        "Vamos agora olhar para a idade do cliente e se há algum problema aí. Novamente, pense em quais dados podem ser estranhos nesta coluna, ou seja, quais não podem ser a idade de alguém."
      ]
    },
    {
      "cell_type": "code",
      "execution_count": null,
      "metadata": {
        "scrolled": true,
        "id": "bamHhgQs6x29",
        "outputId": "44c6fa29-17ff-408d-bf00-9e1613f60861"
      },
      "outputs": [
        {
          "data": {
            "text/plain": [
              "array([ 0, 19, 20, 21, 22, 23, 24, 25, 26, 27, 28, 29, 30, 31, 32, 33, 34,\n",
              "       35, 36, 37, 38, 39, 40, 41, 42, 43, 44, 45, 46, 47, 48, 49, 50, 51,\n",
              "       52, 53, 54, 55, 56, 57, 58, 59, 60, 61, 62, 63, 64, 65, 66, 67, 68,\n",
              "       69, 70, 71, 72, 73, 74, 75])"
            ]
          },
          "execution_count": 39,
          "metadata": {},
          "output_type": "execute_result"
        }
      ],
      "source": [
        "# Verifique o `dob_years` para valores suspeitos e conte a porcentagem\n",
        "df['dob_years'].sort_values().unique()\n"
      ]
    },
    {
      "cell_type": "code",
      "execution_count": null,
      "metadata": {
        "id": "5giASwWl6x29",
        "outputId": "bfc0b905-d2c5-4539-96e9-f0209c6c0fdd"
      },
      "outputs": [
        {
          "data": {
            "text/plain": [
              "43.29337979094077"
            ]
          },
          "execution_count": 40,
          "metadata": {},
          "output_type": "execute_result"
        }
      ],
      "source": [
        "# Média as idades dos clientes\n",
        "df['dob_years'].mean()"
      ]
    },
    {
      "cell_type": "code",
      "execution_count": null,
      "metadata": {
        "id": "yjc6cMe_6x29",
        "outputId": "0a962ac1-34d9-493b-f129-f6b021b6e449"
      },
      "outputs": [
        {
          "data": {
            "text/plain": [
              "42.0"
            ]
          },
          "execution_count": 41,
          "metadata": {},
          "output_type": "execute_result"
        }
      ],
      "source": [
        "# Mediana as idades dos clientes\n",
        "df['dob_years'].median()"
      ]
    },
    {
      "cell_type": "markdown",
      "metadata": {
        "id": "KHFPJWGG6x29"
      },
      "source": [
        "Temos o valor 0 em idade, e para resolver vou usar a mediana de idade."
      ]
    },
    {
      "cell_type": "code",
      "execution_count": null,
      "metadata": {
        "id": "RJQDsAeG6x29"
      },
      "outputs": [],
      "source": [
        "# Resolva os problemas na coluna `dob_years`, se existirem\n",
        "df['dob_years'] = df['dob_years'].replace(0,42)"
      ]
    },
    {
      "cell_type": "code",
      "execution_count": null,
      "metadata": {
        "id": "zRR_aivt6x29",
        "outputId": "cadf7234-4bb8-4a2a-ec20-e7650f81c882"
      },
      "outputs": [
        {
          "data": {
            "text/plain": [
              "array([19, 20, 21, 22, 23, 24, 25, 26, 27, 28, 29, 30, 31, 32, 33, 34, 35,\n",
              "       36, 37, 38, 39, 40, 41, 42, 43, 44, 45, 46, 47, 48, 49, 50, 51, 52,\n",
              "       53, 54, 55, 56, 57, 58, 59, 60, 61, 62, 63, 64, 65, 66, 67, 68, 69,\n",
              "       70, 71, 72, 73, 74, 75])"
            ]
          },
          "execution_count": 43,
          "metadata": {},
          "output_type": "execute_result"
        }
      ],
      "source": [
        "# Verifique o resultado - certifique-se de que está corrigido\n",
        "df['dob_years'].sort_values().unique()"
      ]
    },
    {
      "cell_type": "markdown",
      "metadata": {
        "id": "hhX0kQK-6x2-"
      },
      "source": [
        "Coluna `family_status`.\n"
      ]
    },
    {
      "cell_type": "code",
      "execution_count": null,
      "metadata": {
        "id": "EIFhvgiH6x2-",
        "outputId": "86bfe0dd-87ea-46f5-d8df-932282c84519"
      },
      "outputs": [
        {
          "data": {
            "text/plain": [
              "array(['married', 'civil partnership', 'widow / widower', 'divorced',\n",
              "       'unmarried'], dtype=object)"
            ]
          },
          "execution_count": 44,
          "metadata": {},
          "output_type": "execute_result"
        }
      ],
      "source": [
        "# Vamos ver os valores da coluna\n",
        "df['family_status'].unique()\n"
      ]
    },
    {
      "cell_type": "markdown",
      "metadata": {
        "id": "UHPO4Jta6x2-"
      },
      "source": [
        "Sem erro na coluna"
      ]
    },
    {
      "cell_type": "markdown",
      "metadata": {
        "id": "2itWgWhw6x2-"
      },
      "source": [
        "Coluna `gender`.\n"
      ]
    },
    {
      "cell_type": "code",
      "execution_count": null,
      "metadata": {
        "id": "qnx350Yy6x2-",
        "outputId": "ab4e3f06-eb12-4cf7-c2f5-8ffbad3e3806"
      },
      "outputs": [
        {
          "data": {
            "text/plain": [
              "F      14236\n",
              "M       7288\n",
              "XNA        1\n",
              "Name: gender, dtype: int64"
            ]
          },
          "execution_count": 45,
          "metadata": {},
          "output_type": "execute_result"
        }
      ],
      "source": [
        "# Vamos ver os valores na coluna\n",
        "df['gender'].value_counts()"
      ]
    },
    {
      "cell_type": "markdown",
      "metadata": {
        "id": "gqUB4iAy6x2-"
      },
      "source": [
        "Tem um terceito valor que pode ser um gênero diferente ou erro. Como é pequeno em relação ao todo, não vou mexer\n"
      ]
    },
    {
      "cell_type": "markdown",
      "metadata": {
        "id": "ZvvoEjSD6x2-"
      },
      "source": [
        "Coluna `income_type`"
      ]
    },
    {
      "cell_type": "code",
      "execution_count": null,
      "metadata": {
        "id": "0gYMonSA6x2-",
        "outputId": "4a2425b7-038a-43b4-9ee1-37cf0080afe1"
      },
      "outputs": [
        {
          "data": {
            "text/plain": [
              "employee                       11119\n",
              "business                        5085\n",
              "retiree                         3856\n",
              "civil servant                   1459\n",
              "unemployed                         2\n",
              "entrepreneur                       2\n",
              "paternity / maternity leave        1\n",
              "student                            1\n",
              "Name: income_type, dtype: int64"
            ]
          },
          "execution_count": 46,
          "metadata": {},
          "output_type": "execute_result"
        }
      ],
      "source": [
        "# Vamos ver os valores na coluna\n",
        "df['income_type'].value_counts()"
      ]
    },
    {
      "cell_type": "markdown",
      "metadata": {
        "id": "CNvFqMdu6x2_"
      },
      "source": [
        "Sem erro na coluna\n",
        "\n"
      ]
    },
    {
      "cell_type": "markdown",
      "metadata": {
        "id": "8eekNAMZ6x2_"
      },
      "source": [
        "## Agora vamos ver se temos duplicatas em nossos dados. Se o fizermos, você precisará decidir o que fará com eles e explicar o porquê."
      ]
    },
    {
      "cell_type": "code",
      "execution_count": null,
      "metadata": {
        "id": "HcATEqYh6x2_",
        "outputId": "a3669cd7-f431-45b8-dda0-5a35598eab9c"
      },
      "outputs": [
        {
          "data": {
            "text/plain": [
              "72"
            ]
          },
          "execution_count": 47,
          "metadata": {},
          "output_type": "execute_result"
        }
      ],
      "source": [
        "# Verificar duplicatas\n",
        "df.duplicated().sum()"
      ]
    },
    {
      "cell_type": "code",
      "execution_count": null,
      "metadata": {
        "id": "5L3IMM3A6x2_"
      },
      "outputs": [],
      "source": [
        "# Aborde as duplicatas, se existirem\n",
        "df = df.drop_duplicates().reset_index(drop=True)"
      ]
    },
    {
      "cell_type": "code",
      "execution_count": null,
      "metadata": {
        "id": "pnTPeBto6x2_",
        "outputId": "1873cee7-ae5d-43e8-8a6e-60bee031f52a"
      },
      "outputs": [
        {
          "data": {
            "text/plain": [
              "0"
            ]
          },
          "execution_count": 49,
          "metadata": {},
          "output_type": "execute_result"
        }
      ],
      "source": [
        "# Última verificação se temos duplicatas\n",
        "df.duplicated().sum()"
      ]
    },
    {
      "cell_type": "code",
      "execution_count": null,
      "metadata": {
        "id": "sMYJkyjj6x2_",
        "outputId": "5610b4d9-8c22-4ce3-ecf6-6e2862c6dbfd"
      },
      "outputs": [
        {
          "name": "stdout",
          "output_type": "stream",
          "text": [
            "<class 'pandas.core.frame.DataFrame'>\n",
            "RangeIndex: 21453 entries, 0 to 21452\n",
            "Data columns (total 12 columns):\n",
            " #   Column            Non-Null Count  Dtype  \n",
            "---  ------            --------------  -----  \n",
            " 0   children          21453 non-null  int64  \n",
            " 1   days_employed     19351 non-null  float64\n",
            " 2   dob_years         21453 non-null  int64  \n",
            " 3   education         21453 non-null  object \n",
            " 4   education_id      21453 non-null  int64  \n",
            " 5   family_status     21453 non-null  object \n",
            " 6   family_status_id  21453 non-null  int64  \n",
            " 7   gender            21453 non-null  object \n",
            " 8   income_type       21453 non-null  object \n",
            " 9   debt              21453 non-null  int64  \n",
            " 10  total_income      19351 non-null  float64\n",
            " 11  purpose           21453 non-null  object \n",
            "dtypes: float64(2), int64(5), object(5)\n",
            "memory usage: 2.0+ MB\n"
          ]
        }
      ],
      "source": [
        "#Verifique o tamanho do conjunto de dados que você tem agora após suas primeiras manipulações com ele\n",
        "df.info()"
      ]
    },
    {
      "cell_type": "markdown",
      "metadata": {
        "id": "aQO2BA556x2_"
      },
      "source": [
        "O novo conjunto de dados não possui duplicatas e as colunas sem valores ausentes estão ajustadas. Vamos começar a tratar os valores ausentes"
      ]
    },
    {
      "cell_type": "markdown",
      "metadata": {
        "id": "wVXGMmWc6x2_"
      },
      "source": [
        "# Trabalhando com valores ausentes"
      ]
    },
    {
      "cell_type": "markdown",
      "metadata": {
        "id": "gckUuv7Q6x2_"
      },
      "source": [
        "### Restaurar valores ausentes em `total_income`"
      ]
    },
    {
      "cell_type": "markdown",
      "metadata": {
        "id": "ItiJH5DT6x3A"
      },
      "source": [
        "Para ajustar a coluna \"total_income\" vou começar a fazer comparativos para encontrar a melhor solução para o preenchimento dos valores ausentes."
      ]
    },
    {
      "cell_type": "code",
      "execution_count": null,
      "metadata": {
        "id": "kt1Chyge6x3A"
      },
      "outputs": [],
      "source": [
        "# Vamos escrever uma função que calcule a categoria de idade\n",
        "def faixa_etaria(row):\n",
        "    if row['dob_years'] <= 29:\n",
        "        return '19-29'\n",
        "    elif row['dob_years'] <= 39:\n",
        "        return '30-39'\n",
        "    elif row['dob_years'] <= 49:\n",
        "        return '40-49'\n",
        "    elif row['dob_years'] <= 59:\n",
        "        return '50-59'\n",
        "    elif row['dob_years'] <= 69:\n",
        "        return '60-69'\n",
        "    else:\n",
        "        return '70+'\n",
        ""
      ]
    },
    {
      "cell_type": "code",
      "execution_count": null,
      "metadata": {
        "id": "aVM7l_Ga6x3A",
        "outputId": "ec4b71a9-7de7-40d3-d223-c4b214a3f980"
      },
      "outputs": [
        {
          "data": {
            "text/plain": [
              "'50-59'"
            ]
          },
          "execution_count": 52,
          "metadata": {},
          "output_type": "execute_result"
        }
      ],
      "source": [
        "# Teste se a função funciona\n",
        "test1 = faixa_etaria(df.iloc[4])\n",
        "test1"
      ]
    },
    {
      "cell_type": "code",
      "execution_count": null,
      "metadata": {
        "id": "c4nxXylR6x3A"
      },
      "outputs": [],
      "source": [
        "# Criar coluna nova com base na função\n",
        "df['age'] = df.apply(faixa_etaria, axis =1)"
      ]
    },
    {
      "cell_type": "code",
      "execution_count": null,
      "metadata": {
        "id": "8r4Mj0Bo6x3A",
        "outputId": "32ba01ff-a98b-41b2-9603-723bf40532a4"
      },
      "outputs": [
        {
          "data": {
            "text/html": [
              "<div>\n",
              "<style scoped>\n",
              "    .dataframe tbody tr th:only-of-type {\n",
              "        vertical-align: middle;\n",
              "    }\n",
              "\n",
              "    .dataframe tbody tr th {\n",
              "        vertical-align: top;\n",
              "    }\n",
              "\n",
              "    .dataframe thead th {\n",
              "        text-align: right;\n",
              "    }\n",
              "</style>\n",
              "<table border=\"1\" class=\"dataframe\">\n",
              "  <thead>\n",
              "    <tr style=\"text-align: right;\">\n",
              "      <th></th>\n",
              "      <th>children</th>\n",
              "      <th>days_employed</th>\n",
              "      <th>dob_years</th>\n",
              "      <th>education</th>\n",
              "      <th>education_id</th>\n",
              "      <th>family_status</th>\n",
              "      <th>family_status_id</th>\n",
              "      <th>gender</th>\n",
              "      <th>income_type</th>\n",
              "      <th>debt</th>\n",
              "      <th>total_income</th>\n",
              "      <th>purpose</th>\n",
              "      <th>age</th>\n",
              "    </tr>\n",
              "  </thead>\n",
              "  <tbody>\n",
              "    <tr>\n",
              "      <th>0</th>\n",
              "      <td>1</td>\n",
              "      <td>8437.673028</td>\n",
              "      <td>42</td>\n",
              "      <td>bachelor's degree</td>\n",
              "      <td>0</td>\n",
              "      <td>married</td>\n",
              "      <td>0</td>\n",
              "      <td>F</td>\n",
              "      <td>employee</td>\n",
              "      <td>0</td>\n",
              "      <td>40620.102</td>\n",
              "      <td>purchase of the house</td>\n",
              "      <td>40-49</td>\n",
              "    </tr>\n",
              "    <tr>\n",
              "      <th>1</th>\n",
              "      <td>1</td>\n",
              "      <td>4024.803754</td>\n",
              "      <td>36</td>\n",
              "      <td>secondary education</td>\n",
              "      <td>1</td>\n",
              "      <td>married</td>\n",
              "      <td>0</td>\n",
              "      <td>F</td>\n",
              "      <td>employee</td>\n",
              "      <td>0</td>\n",
              "      <td>17932.802</td>\n",
              "      <td>car purchase</td>\n",
              "      <td>30-39</td>\n",
              "    </tr>\n",
              "    <tr>\n",
              "      <th>2</th>\n",
              "      <td>0</td>\n",
              "      <td>5623.422610</td>\n",
              "      <td>33</td>\n",
              "      <td>secondary education</td>\n",
              "      <td>1</td>\n",
              "      <td>married</td>\n",
              "      <td>0</td>\n",
              "      <td>M</td>\n",
              "      <td>employee</td>\n",
              "      <td>0</td>\n",
              "      <td>23341.752</td>\n",
              "      <td>purchase of the house</td>\n",
              "      <td>30-39</td>\n",
              "    </tr>\n",
              "    <tr>\n",
              "      <th>3</th>\n",
              "      <td>3</td>\n",
              "      <td>4124.747207</td>\n",
              "      <td>32</td>\n",
              "      <td>secondary education</td>\n",
              "      <td>1</td>\n",
              "      <td>married</td>\n",
              "      <td>0</td>\n",
              "      <td>M</td>\n",
              "      <td>employee</td>\n",
              "      <td>0</td>\n",
              "      <td>42820.568</td>\n",
              "      <td>supplementary education</td>\n",
              "      <td>30-39</td>\n",
              "    </tr>\n",
              "    <tr>\n",
              "      <th>4</th>\n",
              "      <td>0</td>\n",
              "      <td>340266.072047</td>\n",
              "      <td>53</td>\n",
              "      <td>secondary education</td>\n",
              "      <td>1</td>\n",
              "      <td>civil partnership</td>\n",
              "      <td>1</td>\n",
              "      <td>F</td>\n",
              "      <td>retiree</td>\n",
              "      <td>0</td>\n",
              "      <td>25378.572</td>\n",
              "      <td>to have a wedding</td>\n",
              "      <td>50-59</td>\n",
              "    </tr>\n",
              "    <tr>\n",
              "      <th>...</th>\n",
              "      <td>...</td>\n",
              "      <td>...</td>\n",
              "      <td>...</td>\n",
              "      <td>...</td>\n",
              "      <td>...</td>\n",
              "      <td>...</td>\n",
              "      <td>...</td>\n",
              "      <td>...</td>\n",
              "      <td>...</td>\n",
              "      <td>...</td>\n",
              "      <td>...</td>\n",
              "      <td>...</td>\n",
              "      <td>...</td>\n",
              "    </tr>\n",
              "    <tr>\n",
              "      <th>21448</th>\n",
              "      <td>1</td>\n",
              "      <td>4529.316663</td>\n",
              "      <td>43</td>\n",
              "      <td>secondary education</td>\n",
              "      <td>1</td>\n",
              "      <td>civil partnership</td>\n",
              "      <td>1</td>\n",
              "      <td>F</td>\n",
              "      <td>business</td>\n",
              "      <td>0</td>\n",
              "      <td>35966.698</td>\n",
              "      <td>housing transactions</td>\n",
              "      <td>40-49</td>\n",
              "    </tr>\n",
              "    <tr>\n",
              "      <th>21449</th>\n",
              "      <td>0</td>\n",
              "      <td>343937.404131</td>\n",
              "      <td>67</td>\n",
              "      <td>secondary education</td>\n",
              "      <td>1</td>\n",
              "      <td>married</td>\n",
              "      <td>0</td>\n",
              "      <td>F</td>\n",
              "      <td>retiree</td>\n",
              "      <td>0</td>\n",
              "      <td>24959.969</td>\n",
              "      <td>purchase of a car</td>\n",
              "      <td>60-69</td>\n",
              "    </tr>\n",
              "    <tr>\n",
              "      <th>21450</th>\n",
              "      <td>1</td>\n",
              "      <td>2113.346888</td>\n",
              "      <td>38</td>\n",
              "      <td>secondary education</td>\n",
              "      <td>1</td>\n",
              "      <td>civil partnership</td>\n",
              "      <td>1</td>\n",
              "      <td>M</td>\n",
              "      <td>employee</td>\n",
              "      <td>1</td>\n",
              "      <td>14347.610</td>\n",
              "      <td>property</td>\n",
              "      <td>30-39</td>\n",
              "    </tr>\n",
              "    <tr>\n",
              "      <th>21451</th>\n",
              "      <td>3</td>\n",
              "      <td>3112.481705</td>\n",
              "      <td>38</td>\n",
              "      <td>secondary education</td>\n",
              "      <td>1</td>\n",
              "      <td>married</td>\n",
              "      <td>0</td>\n",
              "      <td>M</td>\n",
              "      <td>employee</td>\n",
              "      <td>1</td>\n",
              "      <td>39054.888</td>\n",
              "      <td>buying my own car</td>\n",
              "      <td>30-39</td>\n",
              "    </tr>\n",
              "    <tr>\n",
              "      <th>21452</th>\n",
              "      <td>2</td>\n",
              "      <td>1984.507589</td>\n",
              "      <td>40</td>\n",
              "      <td>secondary education</td>\n",
              "      <td>1</td>\n",
              "      <td>married</td>\n",
              "      <td>0</td>\n",
              "      <td>F</td>\n",
              "      <td>employee</td>\n",
              "      <td>0</td>\n",
              "      <td>13127.587</td>\n",
              "      <td>to buy a car</td>\n",
              "      <td>40-49</td>\n",
              "    </tr>\n",
              "  </tbody>\n",
              "</table>\n",
              "<p>21453 rows × 13 columns</p>\n",
              "</div>"
            ],
            "text/plain": [
              "       children  days_employed  dob_years            education  education_id  \\\n",
              "0             1    8437.673028         42    bachelor's degree             0   \n",
              "1             1    4024.803754         36  secondary education             1   \n",
              "2             0    5623.422610         33  secondary education             1   \n",
              "3             3    4124.747207         32  secondary education             1   \n",
              "4             0  340266.072047         53  secondary education             1   \n",
              "...         ...            ...        ...                  ...           ...   \n",
              "21448         1    4529.316663         43  secondary education             1   \n",
              "21449         0  343937.404131         67  secondary education             1   \n",
              "21450         1    2113.346888         38  secondary education             1   \n",
              "21451         3    3112.481705         38  secondary education             1   \n",
              "21452         2    1984.507589         40  secondary education             1   \n",
              "\n",
              "           family_status  family_status_id gender income_type  debt  \\\n",
              "0                married                 0      F    employee     0   \n",
              "1                married                 0      F    employee     0   \n",
              "2                married                 0      M    employee     0   \n",
              "3                married                 0      M    employee     0   \n",
              "4      civil partnership                 1      F     retiree     0   \n",
              "...                  ...               ...    ...         ...   ...   \n",
              "21448  civil partnership                 1      F    business     0   \n",
              "21449            married                 0      F     retiree     0   \n",
              "21450  civil partnership                 1      M    employee     1   \n",
              "21451            married                 0      M    employee     1   \n",
              "21452            married                 0      F    employee     0   \n",
              "\n",
              "       total_income                  purpose    age  \n",
              "0         40620.102    purchase of the house  40-49  \n",
              "1         17932.802             car purchase  30-39  \n",
              "2         23341.752    purchase of the house  30-39  \n",
              "3         42820.568  supplementary education  30-39  \n",
              "4         25378.572        to have a wedding  50-59  \n",
              "...             ...                      ...    ...  \n",
              "21448     35966.698     housing transactions  40-49  \n",
              "21449     24959.969        purchase of a car  60-69  \n",
              "21450     14347.610                 property  30-39  \n",
              "21451     39054.888        buying my own car  30-39  \n",
              "21452     13127.587             to buy a car  40-49  \n",
              "\n",
              "[21453 rows x 13 columns]"
            ]
          },
          "execution_count": 54,
          "metadata": {},
          "output_type": "execute_result"
        }
      ],
      "source": [
        "# Verificar como os valores na nova coluna\n",
        "\n",
        "df"
      ]
    },
    {
      "cell_type": "code",
      "execution_count": null,
      "metadata": {
        "id": "YwELxx-W6x3A",
        "outputId": "0968761c-0f48-4bf1-b1a8-39aadeba91d9"
      },
      "outputs": [
        {
          "data": {
            "text/plain": [
              "30-39    5662\n",
              "40-49    5454\n",
              "50-59    4657\n",
              "19-29    3180\n",
              "60-69    2331\n",
              "70+       169\n",
              "Name: age, dtype: int64"
            ]
          },
          "execution_count": 55,
          "metadata": {},
          "output_type": "execute_result"
        }
      ],
      "source": [
        "df['age'].value_counts()"
      ]
    },
    {
      "cell_type": "code",
      "execution_count": null,
      "metadata": {
        "id": "ZuHiJXpM6x3A",
        "outputId": "d8f8005c-6db1-4566-dd58-8552cf475f5c"
      },
      "outputs": [
        {
          "data": {
            "text/html": [
              "<div>\n",
              "<style scoped>\n",
              "    .dataframe tbody tr th:only-of-type {\n",
              "        vertical-align: middle;\n",
              "    }\n",
              "\n",
              "    .dataframe tbody tr th {\n",
              "        vertical-align: top;\n",
              "    }\n",
              "\n",
              "    .dataframe thead th {\n",
              "        text-align: right;\n",
              "    }\n",
              "</style>\n",
              "<table border=\"1\" class=\"dataframe\">\n",
              "  <thead>\n",
              "    <tr style=\"text-align: right;\">\n",
              "      <th></th>\n",
              "      <th>children</th>\n",
              "      <th>days_employed</th>\n",
              "      <th>dob_years</th>\n",
              "      <th>education</th>\n",
              "      <th>education_id</th>\n",
              "      <th>family_status</th>\n",
              "      <th>family_status_id</th>\n",
              "      <th>gender</th>\n",
              "      <th>income_type</th>\n",
              "      <th>debt</th>\n",
              "      <th>total_income</th>\n",
              "      <th>purpose</th>\n",
              "      <th>age</th>\n",
              "    </tr>\n",
              "  </thead>\n",
              "  <tbody>\n",
              "    <tr>\n",
              "      <th>0</th>\n",
              "      <td>1</td>\n",
              "      <td>8437.673028</td>\n",
              "      <td>42</td>\n",
              "      <td>bachelor's degree</td>\n",
              "      <td>0</td>\n",
              "      <td>married</td>\n",
              "      <td>0</td>\n",
              "      <td>F</td>\n",
              "      <td>employee</td>\n",
              "      <td>0</td>\n",
              "      <td>40620.102</td>\n",
              "      <td>purchase of the house</td>\n",
              "      <td>40-49</td>\n",
              "    </tr>\n",
              "    <tr>\n",
              "      <th>1</th>\n",
              "      <td>1</td>\n",
              "      <td>4024.803754</td>\n",
              "      <td>36</td>\n",
              "      <td>secondary education</td>\n",
              "      <td>1</td>\n",
              "      <td>married</td>\n",
              "      <td>0</td>\n",
              "      <td>F</td>\n",
              "      <td>employee</td>\n",
              "      <td>0</td>\n",
              "      <td>17932.802</td>\n",
              "      <td>car purchase</td>\n",
              "      <td>30-39</td>\n",
              "    </tr>\n",
              "    <tr>\n",
              "      <th>2</th>\n",
              "      <td>0</td>\n",
              "      <td>5623.422610</td>\n",
              "      <td>33</td>\n",
              "      <td>secondary education</td>\n",
              "      <td>1</td>\n",
              "      <td>married</td>\n",
              "      <td>0</td>\n",
              "      <td>M</td>\n",
              "      <td>employee</td>\n",
              "      <td>0</td>\n",
              "      <td>23341.752</td>\n",
              "      <td>purchase of the house</td>\n",
              "      <td>30-39</td>\n",
              "    </tr>\n",
              "    <tr>\n",
              "      <th>3</th>\n",
              "      <td>3</td>\n",
              "      <td>4124.747207</td>\n",
              "      <td>32</td>\n",
              "      <td>secondary education</td>\n",
              "      <td>1</td>\n",
              "      <td>married</td>\n",
              "      <td>0</td>\n",
              "      <td>M</td>\n",
              "      <td>employee</td>\n",
              "      <td>0</td>\n",
              "      <td>42820.568</td>\n",
              "      <td>supplementary education</td>\n",
              "      <td>30-39</td>\n",
              "    </tr>\n",
              "    <tr>\n",
              "      <th>4</th>\n",
              "      <td>0</td>\n",
              "      <td>340266.072047</td>\n",
              "      <td>53</td>\n",
              "      <td>secondary education</td>\n",
              "      <td>1</td>\n",
              "      <td>civil partnership</td>\n",
              "      <td>1</td>\n",
              "      <td>F</td>\n",
              "      <td>retiree</td>\n",
              "      <td>0</td>\n",
              "      <td>25378.572</td>\n",
              "      <td>to have a wedding</td>\n",
              "      <td>50-59</td>\n",
              "    </tr>\n",
              "    <tr>\n",
              "      <th>...</th>\n",
              "      <td>...</td>\n",
              "      <td>...</td>\n",
              "      <td>...</td>\n",
              "      <td>...</td>\n",
              "      <td>...</td>\n",
              "      <td>...</td>\n",
              "      <td>...</td>\n",
              "      <td>...</td>\n",
              "      <td>...</td>\n",
              "      <td>...</td>\n",
              "      <td>...</td>\n",
              "      <td>...</td>\n",
              "      <td>...</td>\n",
              "    </tr>\n",
              "    <tr>\n",
              "      <th>21448</th>\n",
              "      <td>1</td>\n",
              "      <td>4529.316663</td>\n",
              "      <td>43</td>\n",
              "      <td>secondary education</td>\n",
              "      <td>1</td>\n",
              "      <td>civil partnership</td>\n",
              "      <td>1</td>\n",
              "      <td>F</td>\n",
              "      <td>business</td>\n",
              "      <td>0</td>\n",
              "      <td>35966.698</td>\n",
              "      <td>housing transactions</td>\n",
              "      <td>40-49</td>\n",
              "    </tr>\n",
              "    <tr>\n",
              "      <th>21449</th>\n",
              "      <td>0</td>\n",
              "      <td>343937.404131</td>\n",
              "      <td>67</td>\n",
              "      <td>secondary education</td>\n",
              "      <td>1</td>\n",
              "      <td>married</td>\n",
              "      <td>0</td>\n",
              "      <td>F</td>\n",
              "      <td>retiree</td>\n",
              "      <td>0</td>\n",
              "      <td>24959.969</td>\n",
              "      <td>purchase of a car</td>\n",
              "      <td>60-69</td>\n",
              "    </tr>\n",
              "    <tr>\n",
              "      <th>21450</th>\n",
              "      <td>1</td>\n",
              "      <td>2113.346888</td>\n",
              "      <td>38</td>\n",
              "      <td>secondary education</td>\n",
              "      <td>1</td>\n",
              "      <td>civil partnership</td>\n",
              "      <td>1</td>\n",
              "      <td>M</td>\n",
              "      <td>employee</td>\n",
              "      <td>1</td>\n",
              "      <td>14347.610</td>\n",
              "      <td>property</td>\n",
              "      <td>30-39</td>\n",
              "    </tr>\n",
              "    <tr>\n",
              "      <th>21451</th>\n",
              "      <td>3</td>\n",
              "      <td>3112.481705</td>\n",
              "      <td>38</td>\n",
              "      <td>secondary education</td>\n",
              "      <td>1</td>\n",
              "      <td>married</td>\n",
              "      <td>0</td>\n",
              "      <td>M</td>\n",
              "      <td>employee</td>\n",
              "      <td>1</td>\n",
              "      <td>39054.888</td>\n",
              "      <td>buying my own car</td>\n",
              "      <td>30-39</td>\n",
              "    </tr>\n",
              "    <tr>\n",
              "      <th>21452</th>\n",
              "      <td>2</td>\n",
              "      <td>1984.507589</td>\n",
              "      <td>40</td>\n",
              "      <td>secondary education</td>\n",
              "      <td>1</td>\n",
              "      <td>married</td>\n",
              "      <td>0</td>\n",
              "      <td>F</td>\n",
              "      <td>employee</td>\n",
              "      <td>0</td>\n",
              "      <td>13127.587</td>\n",
              "      <td>to buy a car</td>\n",
              "      <td>40-49</td>\n",
              "    </tr>\n",
              "  </tbody>\n",
              "</table>\n",
              "<p>19351 rows × 13 columns</p>\n",
              "</div>"
            ],
            "text/plain": [
              "       children  days_employed  dob_years            education  education_id  \\\n",
              "0             1    8437.673028         42    bachelor's degree             0   \n",
              "1             1    4024.803754         36  secondary education             1   \n",
              "2             0    5623.422610         33  secondary education             1   \n",
              "3             3    4124.747207         32  secondary education             1   \n",
              "4             0  340266.072047         53  secondary education             1   \n",
              "...         ...            ...        ...                  ...           ...   \n",
              "21448         1    4529.316663         43  secondary education             1   \n",
              "21449         0  343937.404131         67  secondary education             1   \n",
              "21450         1    2113.346888         38  secondary education             1   \n",
              "21451         3    3112.481705         38  secondary education             1   \n",
              "21452         2    1984.507589         40  secondary education             1   \n",
              "\n",
              "           family_status  family_status_id gender income_type  debt  \\\n",
              "0                married                 0      F    employee     0   \n",
              "1                married                 0      F    employee     0   \n",
              "2                married                 0      M    employee     0   \n",
              "3                married                 0      M    employee     0   \n",
              "4      civil partnership                 1      F     retiree     0   \n",
              "...                  ...               ...    ...         ...   ...   \n",
              "21448  civil partnership                 1      F    business     0   \n",
              "21449            married                 0      F     retiree     0   \n",
              "21450  civil partnership                 1      M    employee     1   \n",
              "21451            married                 0      M    employee     1   \n",
              "21452            married                 0      F    employee     0   \n",
              "\n",
              "       total_income                  purpose    age  \n",
              "0         40620.102    purchase of the house  40-49  \n",
              "1         17932.802             car purchase  30-39  \n",
              "2         23341.752    purchase of the house  30-39  \n",
              "3         42820.568  supplementary education  30-39  \n",
              "4         25378.572        to have a wedding  50-59  \n",
              "...             ...                      ...    ...  \n",
              "21448     35966.698     housing transactions  40-49  \n",
              "21449     24959.969        purchase of a car  60-69  \n",
              "21450     14347.610                 property  30-39  \n",
              "21451     39054.888        buying my own car  30-39  \n",
              "21452     13127.587             to buy a car  40-49  \n",
              "\n",
              "[19351 rows x 13 columns]"
            ]
          },
          "execution_count": 56,
          "metadata": {},
          "output_type": "execute_result"
        }
      ],
      "source": [
        "# Crie uma tabela sem valores ausentes e exiba algumas de suas linhas para garantir que ela fique boa\n",
        "df.dropna()\n"
      ]
    },
    {
      "cell_type": "code",
      "execution_count": null,
      "metadata": {
        "id": "MEBRYynt6x3A",
        "outputId": "2aa9e551-0ff5-4334-f9be-4c950d5c62d7"
      },
      "outputs": [
        {
          "data": {
            "text/html": [
              "<div>\n",
              "<style scoped>\n",
              "    .dataframe tbody tr th:only-of-type {\n",
              "        vertical-align: middle;\n",
              "    }\n",
              "\n",
              "    .dataframe tbody tr th {\n",
              "        vertical-align: top;\n",
              "    }\n",
              "\n",
              "    .dataframe thead th {\n",
              "        text-align: right;\n",
              "    }\n",
              "</style>\n",
              "<table border=\"1\" class=\"dataframe\">\n",
              "  <thead>\n",
              "    <tr style=\"text-align: right;\">\n",
              "      <th></th>\n",
              "      <th>children</th>\n",
              "      <th>days_employed</th>\n",
              "      <th>dob_years</th>\n",
              "      <th>education_id</th>\n",
              "      <th>family_status_id</th>\n",
              "      <th>debt</th>\n",
              "      <th>total_income</th>\n",
              "    </tr>\n",
              "  </thead>\n",
              "  <tbody>\n",
              "    <tr>\n",
              "      <th>count</th>\n",
              "      <td>19351.000000</td>\n",
              "      <td>19351.000000</td>\n",
              "      <td>19351.000000</td>\n",
              "      <td>19351.000000</td>\n",
              "      <td>19351.000000</td>\n",
              "      <td>19351.000000</td>\n",
              "      <td>19351.000000</td>\n",
              "    </tr>\n",
              "    <tr>\n",
              "      <th>mean</th>\n",
              "      <td>0.472689</td>\n",
              "      <td>66914.728907</td>\n",
              "      <td>43.452845</td>\n",
              "      <td>0.819079</td>\n",
              "      <td>0.972249</td>\n",
              "      <td>0.081184</td>\n",
              "      <td>26787.568355</td>\n",
              "    </tr>\n",
              "    <tr>\n",
              "      <th>std</th>\n",
              "      <td>0.749067</td>\n",
              "      <td>139030.880527</td>\n",
              "      <td>12.223125</td>\n",
              "      <td>0.550104</td>\n",
              "      <td>1.420596</td>\n",
              "      <td>0.273125</td>\n",
              "      <td>16475.450632</td>\n",
              "    </tr>\n",
              "    <tr>\n",
              "      <th>min</th>\n",
              "      <td>0.000000</td>\n",
              "      <td>24.141633</td>\n",
              "      <td>19.000000</td>\n",
              "      <td>0.000000</td>\n",
              "      <td>0.000000</td>\n",
              "      <td>0.000000</td>\n",
              "      <td>3306.762000</td>\n",
              "    </tr>\n",
              "    <tr>\n",
              "      <th>25%</th>\n",
              "      <td>0.000000</td>\n",
              "      <td>927.009265</td>\n",
              "      <td>33.000000</td>\n",
              "      <td>1.000000</td>\n",
              "      <td>0.000000</td>\n",
              "      <td>0.000000</td>\n",
              "      <td>16488.504500</td>\n",
              "    </tr>\n",
              "    <tr>\n",
              "      <th>50%</th>\n",
              "      <td>0.000000</td>\n",
              "      <td>2194.220567</td>\n",
              "      <td>42.000000</td>\n",
              "      <td>1.000000</td>\n",
              "      <td>0.000000</td>\n",
              "      <td>0.000000</td>\n",
              "      <td>23202.870000</td>\n",
              "    </tr>\n",
              "    <tr>\n",
              "      <th>75%</th>\n",
              "      <td>1.000000</td>\n",
              "      <td>5537.882441</td>\n",
              "      <td>53.000000</td>\n",
              "      <td>1.000000</td>\n",
              "      <td>1.000000</td>\n",
              "      <td>0.000000</td>\n",
              "      <td>32549.611000</td>\n",
              "    </tr>\n",
              "    <tr>\n",
              "      <th>max</th>\n",
              "      <td>5.000000</td>\n",
              "      <td>401755.400475</td>\n",
              "      <td>75.000000</td>\n",
              "      <td>4.000000</td>\n",
              "      <td>4.000000</td>\n",
              "      <td>1.000000</td>\n",
              "      <td>362496.645000</td>\n",
              "    </tr>\n",
              "  </tbody>\n",
              "</table>\n",
              "</div>"
            ],
            "text/plain": [
              "           children  days_employed     dob_years  education_id  \\\n",
              "count  19351.000000   19351.000000  19351.000000  19351.000000   \n",
              "mean       0.472689   66914.728907     43.452845      0.819079   \n",
              "std        0.749067  139030.880527     12.223125      0.550104   \n",
              "min        0.000000      24.141633     19.000000      0.000000   \n",
              "25%        0.000000     927.009265     33.000000      1.000000   \n",
              "50%        0.000000    2194.220567     42.000000      1.000000   \n",
              "75%        1.000000    5537.882441     53.000000      1.000000   \n",
              "max        5.000000  401755.400475     75.000000      4.000000   \n",
              "\n",
              "       family_status_id          debt   total_income  \n",
              "count      19351.000000  19351.000000   19351.000000  \n",
              "mean           0.972249      0.081184   26787.568355  \n",
              "std            1.420596      0.273125   16475.450632  \n",
              "min            0.000000      0.000000    3306.762000  \n",
              "25%            0.000000      0.000000   16488.504500  \n",
              "50%            0.000000      0.000000   23202.870000  \n",
              "75%            1.000000      0.000000   32549.611000  \n",
              "max            4.000000      1.000000  362496.645000  "
            ]
          },
          "execution_count": 57,
          "metadata": {},
          "output_type": "execute_result"
        }
      ],
      "source": [
        "df.dropna().describe()"
      ]
    },
    {
      "cell_type": "code",
      "execution_count": null,
      "metadata": {
        "id": "0R3iwmGc6x3B",
        "outputId": "f14c485a-8105-49ea-df57-2c257bc54466"
      },
      "outputs": [
        {
          "data": {
            "text/plain": [
              "age\n",
              "19-29    25533.960641\n",
              "30-39    28312.479963\n",
              "40-49    28491.929026\n",
              "50-59    25811.700327\n",
              "60-69    23242.812818\n",
              "70+      20125.658331\n",
              "Name: total_income, dtype: float64"
            ]
          },
          "execution_count": 58,
          "metadata": {},
          "output_type": "execute_result"
        }
      ],
      "source": [
        "# Veja os valores médios de renda com base em seus fatores identificados\n",
        "df.dropna().groupby('age')['total_income'].mean()"
      ]
    },
    {
      "cell_type": "code",
      "execution_count": null,
      "metadata": {
        "scrolled": true,
        "id": "dHybbdpJ6x3B",
        "outputId": "63438313-4217-4a8d-8028-a9848ccd4970"
      },
      "outputs": [
        {
          "data": {
            "text/plain": [
              "age\n",
              "19-29    22742.6535\n",
              "30-39    24667.5280\n",
              "40-49    24755.6960\n",
              "50-59    22203.0745\n",
              "60-69    19817.4400\n",
              "70+      18751.3240\n",
              "Name: total_income, dtype: float64"
            ]
          },
          "execution_count": 59,
          "metadata": {},
          "output_type": "execute_result"
        }
      ],
      "source": [
        "# Veja os valores medianos de renda com base em seus fatores identificados\n",
        "df.dropna().groupby('age')['total_income'].median()"
      ]
    },
    {
      "cell_type": "code",
      "execution_count": null,
      "metadata": {
        "id": "iemJhl436x3B",
        "outputId": "4db2f395-09de-490c-a924-f3031325681f"
      },
      "outputs": [
        {
          "data": {
            "text/plain": [
              "education\n",
              "bachelor's degree      33142.802434\n",
              "graduate degree        27960.024667\n",
              "primary education      21144.882211\n",
              "secondary education    24594.503037\n",
              "some college           29045.443644\n",
              "Name: total_income, dtype: float64"
            ]
          },
          "execution_count": 60,
          "metadata": {},
          "output_type": "execute_result"
        }
      ],
      "source": [
        "df.dropna().groupby('education')['total_income'].mean()"
      ]
    },
    {
      "cell_type": "code",
      "execution_count": null,
      "metadata": {
        "id": "y6W76fvJ6x3B",
        "outputId": "b0bb38f9-1007-4fc0-aa89-a54e15da40f6"
      },
      "outputs": [
        {
          "data": {
            "text/plain": [
              "education\n",
              "bachelor's degree      28054.5310\n",
              "graduate degree        25161.5835\n",
              "primary education      18741.9760\n",
              "secondary education    21836.5830\n",
              "some college           25618.4640\n",
              "Name: total_income, dtype: float64"
            ]
          },
          "execution_count": 61,
          "metadata": {},
          "output_type": "execute_result"
        }
      ],
      "source": [
        "df.dropna().groupby('education')['total_income'].median()"
      ]
    },
    {
      "cell_type": "code",
      "execution_count": null,
      "metadata": {
        "id": "v0q-tlyH6x3B",
        "outputId": "b96cfda0-f07e-4a37-922e-a6b59115bf2c"
      },
      "outputs": [
        {
          "data": {
            "text/plain": [
              "income_type\n",
              "business                       32386.793835\n",
              "civil servant                  27343.729582\n",
              "employee                       25820.841683\n",
              "entrepreneur                   79866.103000\n",
              "paternity / maternity leave     8612.661000\n",
              "retiree                        21940.394503\n",
              "student                        15712.260000\n",
              "unemployed                     21014.360500\n",
              "Name: total_income, dtype: float64"
            ]
          },
          "execution_count": 62,
          "metadata": {},
          "output_type": "execute_result"
        }
      ],
      "source": [
        "df.dropna().groupby('income_type')['total_income'].mean()"
      ]
    },
    {
      "cell_type": "code",
      "execution_count": null,
      "metadata": {
        "id": "L5d1M8Wl6x3B",
        "outputId": "dfd29bcc-b406-48f8-8031-87f4da27dc5a"
      },
      "outputs": [
        {
          "data": {
            "text/plain": [
              "income_type\n",
              "business                       27577.2720\n",
              "civil servant                  24071.6695\n",
              "employee                       22815.1035\n",
              "entrepreneur                   79866.1030\n",
              "paternity / maternity leave     8612.6610\n",
              "retiree                        18962.3180\n",
              "student                        15712.2600\n",
              "unemployed                     21014.3605\n",
              "Name: total_income, dtype: float64"
            ]
          },
          "execution_count": 63,
          "metadata": {},
          "output_type": "execute_result"
        }
      ],
      "source": [
        "df.dropna().groupby('income_type')['total_income'].median()"
      ]
    },
    {
      "cell_type": "markdown",
      "metadata": {
        "id": "_JKm1gQU6x3B"
      },
      "source": [
        "Considero que o tipo de fonte de renda interfere mais no valor recebido do que outros fatores, e por isso vou utilizar esses dados para preencher os ausentes. Para isso vou usar a mediana."
      ]
    },
    {
      "cell_type": "code",
      "execution_count": null,
      "metadata": {
        "id": "ongmgTdq6x3B"
      },
      "outputs": [],
      "source": [
        "#  Escreva uma função que usaremos para preencher os valores ausentes\n",
        "def income(row):\n",
        "    if pd.isna(row['total_income']):\n",
        "        if row['income_type'] == 'business':\n",
        "            return 27577.2720\n",
        "        elif row['income_type'] == 'civil servant':\n",
        "            return 24071.6695\n",
        "        elif row['income_type'] == 'employee':\n",
        "            return 22815.1035\n",
        "        elif row['income_type'] == 'entrepreneur':\n",
        "            return 79866.1030\n",
        "        elif row['income_type'] == 'paternity / maternity leave':\n",
        "            return 8612.6610\n",
        "        elif row['income_type'] == 'retiree':\n",
        "            return 18962.3180\n",
        "        elif row['income_type'] == 'student':\n",
        "            return 15712.2600\n",
        "        elif row['income_type'] == 'unemployed':\n",
        "            return 21014.3605\n",
        "        else:\n",
        "            return '0'\n",
        "    else:\n",
        "        return row['total_income']\n",
        ""
      ]
    },
    {
      "cell_type": "code",
      "execution_count": null,
      "metadata": {
        "id": "6WXwGSFW6x3C",
        "outputId": "0203c7bb-70ac-43bc-9687-d802aaaf1c2e"
      },
      "outputs": [
        {
          "data": {
            "text/plain": [
              "18962.318"
            ]
          },
          "execution_count": 65,
          "metadata": {},
          "output_type": "execute_result"
        }
      ],
      "source": [
        "# Verifique se funciona\n",
        "income(df[df['total_income'].isna()].iloc[2])"
      ]
    },
    {
      "cell_type": "code",
      "execution_count": null,
      "metadata": {
        "id": "Zyb9-7Hh6x3C",
        "outputId": "c4f08bfa-03e3-4df2-ab02-667d201982b6"
      },
      "outputs": [
        {
          "data": {
            "text/plain": [
              "24071.6695"
            ]
          },
          "execution_count": 66,
          "metadata": {},
          "output_type": "execute_result"
        }
      ],
      "source": [
        "income(df[df['total_income'].isna()].iloc[1])"
      ]
    },
    {
      "cell_type": "code",
      "execution_count": null,
      "metadata": {
        "id": "1A--_VGp6x3C",
        "outputId": "93b4fed5-462f-4790-a777-9aba532d2fe3"
      },
      "outputs": [
        {
          "data": {
            "text/plain": [
              "27577.272"
            ]
          },
          "execution_count": 67,
          "metadata": {},
          "output_type": "execute_result"
        }
      ],
      "source": [
        "income(df[df['total_income'].isna()].iloc[100])"
      ]
    },
    {
      "cell_type": "code",
      "execution_count": null,
      "metadata": {
        "id": "GuQvVH9o6x3C"
      },
      "outputs": [],
      "source": [
        "# Aplique em todas as linhas\n",
        "df['total_income'] = df.apply(income, axis=1)"
      ]
    },
    {
      "cell_type": "code",
      "execution_count": null,
      "metadata": {
        "id": "3wTprUJx6x3C",
        "outputId": "0c374612-db34-4cf5-fe65-a8495decf444"
      },
      "outputs": [
        {
          "data": {
            "text/plain": [
              "14555      3306.762\n",
              "12983      3392.845\n",
              "16137      3418.824\n",
              "1598       3471.216\n",
              "14247      3503.298\n",
              "            ...    \n",
              "17136    273809.483\n",
              "20741    274402.943\n",
              "9159     276204.162\n",
              "19547    352136.354\n",
              "12390    362496.645\n",
              "Name: total_income, Length: 21453, dtype: float64"
            ]
          },
          "execution_count": 69,
          "metadata": {},
          "output_type": "execute_result"
        }
      ],
      "source": [
        "# Verifique se temos algum erro\n",
        "df['total_income'].sort_values()"
      ]
    },
    {
      "cell_type": "code",
      "execution_count": null,
      "metadata": {
        "id": "NN4y99js6x3C",
        "outputId": "837058f3-4f9e-4439-ef1b-ba69f0dc250c"
      },
      "outputs": [
        {
          "name": "stdout",
          "output_type": "stream",
          "text": [
            "<class 'pandas.core.frame.DataFrame'>\n",
            "RangeIndex: 21453 entries, 0 to 21452\n",
            "Data columns (total 13 columns):\n",
            " #   Column            Non-Null Count  Dtype  \n",
            "---  ------            --------------  -----  \n",
            " 0   children          21453 non-null  int64  \n",
            " 1   days_employed     19351 non-null  float64\n",
            " 2   dob_years         21453 non-null  int64  \n",
            " 3   education         21453 non-null  object \n",
            " 4   education_id      21453 non-null  int64  \n",
            " 5   family_status     21453 non-null  object \n",
            " 6   family_status_id  21453 non-null  int64  \n",
            " 7   gender            21453 non-null  object \n",
            " 8   income_type       21453 non-null  object \n",
            " 9   debt              21453 non-null  int64  \n",
            " 10  total_income      21453 non-null  float64\n",
            " 11  purpose           21453 non-null  object \n",
            " 12  age               21453 non-null  object \n",
            "dtypes: float64(2), int64(5), object(6)\n",
            "memory usage: 2.1+ MB\n"
          ]
        }
      ],
      "source": [
        "df.info()"
      ]
    },
    {
      "cell_type": "code",
      "execution_count": null,
      "metadata": {
        "id": "ZMDpQC2S6x3C",
        "outputId": "985e121a-db2e-45fa-fb6d-5cac28c94c99"
      },
      "outputs": [
        {
          "data": {
            "text/html": [
              "<div>\n",
              "<style scoped>\n",
              "    .dataframe tbody tr th:only-of-type {\n",
              "        vertical-align: middle;\n",
              "    }\n",
              "\n",
              "    .dataframe tbody tr th {\n",
              "        vertical-align: top;\n",
              "    }\n",
              "\n",
              "    .dataframe thead th {\n",
              "        text-align: right;\n",
              "    }\n",
              "</style>\n",
              "<table border=\"1\" class=\"dataframe\">\n",
              "  <thead>\n",
              "    <tr style=\"text-align: right;\">\n",
              "      <th></th>\n",
              "      <th>children</th>\n",
              "      <th>days_employed</th>\n",
              "      <th>dob_years</th>\n",
              "      <th>education_id</th>\n",
              "      <th>family_status_id</th>\n",
              "      <th>debt</th>\n",
              "      <th>total_income</th>\n",
              "    </tr>\n",
              "  </thead>\n",
              "  <tbody>\n",
              "    <tr>\n",
              "      <th>count</th>\n",
              "      <td>21453.000000</td>\n",
              "      <td>19351.000000</td>\n",
              "      <td>21453.000000</td>\n",
              "      <td>21453.000000</td>\n",
              "      <td>21453.000000</td>\n",
              "      <td>21453.000000</td>\n",
              "      <td>21453.000000</td>\n",
              "    </tr>\n",
              "    <tr>\n",
              "      <th>mean</th>\n",
              "      <td>0.473500</td>\n",
              "      <td>66914.728907</td>\n",
              "      <td>43.469025</td>\n",
              "      <td>0.817089</td>\n",
              "      <td>0.973896</td>\n",
              "      <td>0.081154</td>\n",
              "      <td>26451.382421</td>\n",
              "    </tr>\n",
              "    <tr>\n",
              "      <th>std</th>\n",
              "      <td>0.751162</td>\n",
              "      <td>139030.880527</td>\n",
              "      <td>12.214162</td>\n",
              "      <td>0.548686</td>\n",
              "      <td>1.421601</td>\n",
              "      <td>0.273078</td>\n",
              "      <td>15710.314734</td>\n",
              "    </tr>\n",
              "    <tr>\n",
              "      <th>min</th>\n",
              "      <td>0.000000</td>\n",
              "      <td>24.141633</td>\n",
              "      <td>19.000000</td>\n",
              "      <td>0.000000</td>\n",
              "      <td>0.000000</td>\n",
              "      <td>0.000000</td>\n",
              "      <td>3306.762000</td>\n",
              "    </tr>\n",
              "    <tr>\n",
              "      <th>25%</th>\n",
              "      <td>0.000000</td>\n",
              "      <td>927.009265</td>\n",
              "      <td>33.000000</td>\n",
              "      <td>1.000000</td>\n",
              "      <td>0.000000</td>\n",
              "      <td>0.000000</td>\n",
              "      <td>17219.352000</td>\n",
              "    </tr>\n",
              "    <tr>\n",
              "      <th>50%</th>\n",
              "      <td>0.000000</td>\n",
              "      <td>2194.220567</td>\n",
              "      <td>42.000000</td>\n",
              "      <td>1.000000</td>\n",
              "      <td>0.000000</td>\n",
              "      <td>0.000000</td>\n",
              "      <td>22815.103500</td>\n",
              "    </tr>\n",
              "    <tr>\n",
              "      <th>75%</th>\n",
              "      <td>1.000000</td>\n",
              "      <td>5537.882441</td>\n",
              "      <td>53.000000</td>\n",
              "      <td>1.000000</td>\n",
              "      <td>1.000000</td>\n",
              "      <td>0.000000</td>\n",
              "      <td>31331.461000</td>\n",
              "    </tr>\n",
              "    <tr>\n",
              "      <th>max</th>\n",
              "      <td>5.000000</td>\n",
              "      <td>401755.400475</td>\n",
              "      <td>75.000000</td>\n",
              "      <td>4.000000</td>\n",
              "      <td>4.000000</td>\n",
              "      <td>1.000000</td>\n",
              "      <td>362496.645000</td>\n",
              "    </tr>\n",
              "  </tbody>\n",
              "</table>\n",
              "</div>"
            ],
            "text/plain": [
              "           children  days_employed     dob_years  education_id  \\\n",
              "count  21453.000000   19351.000000  21453.000000  21453.000000   \n",
              "mean       0.473500   66914.728907     43.469025      0.817089   \n",
              "std        0.751162  139030.880527     12.214162      0.548686   \n",
              "min        0.000000      24.141633     19.000000      0.000000   \n",
              "25%        0.000000     927.009265     33.000000      1.000000   \n",
              "50%        0.000000    2194.220567     42.000000      1.000000   \n",
              "75%        1.000000    5537.882441     53.000000      1.000000   \n",
              "max        5.000000  401755.400475     75.000000      4.000000   \n",
              "\n",
              "       family_status_id          debt   total_income  \n",
              "count      21453.000000  21453.000000   21453.000000  \n",
              "mean           0.973896      0.081154   26451.382421  \n",
              "std            1.421601      0.273078   15710.314734  \n",
              "min            0.000000      0.000000    3306.762000  \n",
              "25%            0.000000      0.000000   17219.352000  \n",
              "50%            0.000000      0.000000   22815.103500  \n",
              "75%            1.000000      0.000000   31331.461000  \n",
              "max            4.000000      1.000000  362496.645000  "
            ]
          },
          "execution_count": 71,
          "metadata": {},
          "output_type": "execute_result"
        }
      ],
      "source": [
        "df.describe()"
      ]
    },
    {
      "cell_type": "markdown",
      "metadata": {
        "id": "Uu1SJuua6x3D"
      },
      "source": [
        "Dados corrigidos na coluna 'total_income'\n"
      ]
    },
    {
      "cell_type": "markdown",
      "metadata": {
        "id": "S9crZH0W6x3D"
      },
      "source": [
        "###  Restaurar valores em `days_employed`"
      ]
    },
    {
      "cell_type": "markdown",
      "metadata": {
        "id": "AbyO7vPy6x3D"
      },
      "source": [
        "Para ajustar a coluna \"days_employed\" vou começar a fazer comparativos para encontrar a melhor solução para o preenchimento dos valores ausentes."
      ]
    },
    {
      "cell_type": "code",
      "execution_count": null,
      "metadata": {
        "pycharm": {
          "name": "#%%\n"
        },
        "id": "OvdbaJFd6x3D",
        "outputId": "cb2df991-8835-41e2-920e-ae8a436cbc3b"
      },
      "outputs": [
        {
          "data": {
            "text/plain": [
              "age\n",
              "19-29      2082.493898\n",
              "30-39      4155.029251\n",
              "40-49     13439.227108\n",
              "50-59    132907.545543\n",
              "60-69    283926.481689\n",
              "70+      320819.151927\n",
              "Name: days_employed, dtype: float64"
            ]
          },
          "execution_count": 72,
          "metadata": {},
          "output_type": "execute_result"
        }
      ],
      "source": [
        "# Distribuição de `days_employed` medianos com base em seus parâmetros identificados\n",
        "df.dropna().groupby('age')['days_employed'].mean()\n",
        "\n"
      ]
    },
    {
      "cell_type": "code",
      "execution_count": null,
      "metadata": {
        "id": "8e3zK4T16x3D",
        "outputId": "2f1e5bb6-b41a-4ec9-c902-a5f7cc22c460"
      },
      "outputs": [
        {
          "data": {
            "text/plain": [
              "age\n",
              "19-29       999.028882\n",
              "30-39      1601.784231\n",
              "40-49      2108.529344\n",
              "50-59      4796.767897\n",
              "60-69    354935.619093\n",
              "70+      361336.993449\n",
              "Name: days_employed, dtype: float64"
            ]
          },
          "execution_count": 73,
          "metadata": {},
          "output_type": "execute_result"
        }
      ],
      "source": [
        "df.dropna().groupby('age')['days_employed'].median()"
      ]
    },
    {
      "cell_type": "code",
      "execution_count": null,
      "metadata": {
        "id": "KcMLPGab6x3D",
        "outputId": "3af11a71-72d5-4ad4-ec3d-85dc72854725"
      },
      "outputs": [
        {
          "data": {
            "text/plain": [
              "education_id\n",
              "0     42375.409174\n",
              "1     76413.822372\n",
              "2     20656.632017\n",
              "3    130340.426349\n",
              "4    121323.630206\n",
              "Name: days_employed, dtype: float64"
            ]
          },
          "execution_count": 74,
          "metadata": {},
          "output_type": "execute_result"
        }
      ],
      "source": [
        "# Distribuição de `days_employed` médios com base em seus parâmetros identificados\n",
        "df.dropna().groupby('education_id')['days_employed'].mean()"
      ]
    },
    {
      "cell_type": "code",
      "execution_count": null,
      "metadata": {
        "id": "4-QE4gTv6x3D",
        "outputId": "2bc6af08-1d99-41f7-8854-4e99c571c84d"
      },
      "outputs": [
        {
          "data": {
            "text/plain": [
              "family_status\n",
              "civil partnership     58396.260670\n",
              "divorced              68816.335483\n",
              "married               63312.782890\n",
              "unmarried             47072.691647\n",
              "widow / widower      205636.887848\n",
              "Name: days_employed, dtype: float64"
            ]
          },
          "execution_count": 75,
          "metadata": {},
          "output_type": "execute_result"
        }
      ],
      "source": [
        "df.dropna().groupby('family_status')['days_employed'].mean()"
      ]
    },
    {
      "cell_type": "markdown",
      "metadata": {
        "id": "K-ppES2l6x3E"
      },
      "source": [
        "Considero que a idade interfere mais na quantidade de dias trabalhados do que outros fatores, e por isso vou utilizar esses dados para preencher os ausentes. Para isso vou utilizar a média."
      ]
    },
    {
      "cell_type": "code",
      "execution_count": null,
      "metadata": {
        "id": "xFZQedxo6x3E"
      },
      "outputs": [],
      "source": [
        "# Vamos escrever uma função que calcule médias ou medianas (dependendo da sua decisão) com base no seu parâmetro identificado\n",
        "def days(row):\n",
        "    if pd.isna(row['days_employed']):\n",
        "        if row['age'] == '19-29':\n",
        "            return 2082.493898\n",
        "        elif row['age'] == '30-39':\n",
        "            return 4155.029251\n",
        "        elif row['age'] == '40-49':\n",
        "            return 13439.227108\n",
        "        elif row['age'] == '50-59':\n",
        "            return 132907.545543\n",
        "        elif row['age'] == '60-69':\n",
        "            return 283926.481689\n",
        "        elif row['age'] == '70+':\n",
        "            return 320819.151927\n",
        "        else:\n",
        "            return 0\n",
        "    else:\n",
        "        return row['days_employed']\n",
        ""
      ]
    },
    {
      "cell_type": "code",
      "execution_count": null,
      "metadata": {
        "id": "kmuVQHga6x3E",
        "outputId": "1249d1e6-c573-4ef5-ad58-f0949320a1e7"
      },
      "outputs": [
        {
          "data": {
            "text/plain": [
              "18962.318"
            ]
          },
          "execution_count": 77,
          "metadata": {},
          "output_type": "execute_result"
        }
      ],
      "source": [
        "# Verifique se a função funciona\n",
        "income(df[df['days_employed'].isna()].iloc[2])\n"
      ]
    },
    {
      "cell_type": "code",
      "execution_count": null,
      "metadata": {
        "id": "omr1Evfk6x3E"
      },
      "outputs": [],
      "source": [
        "# Aplicar função ao income_type\n",
        "\n",
        "df['days_employed'] = df.apply(days, axis=1)"
      ]
    },
    {
      "cell_type": "code",
      "execution_count": null,
      "metadata": {
        "id": "zH309jql6x3E",
        "outputId": "d32478f2-1e14-4a77-9b44-43e33042c46b"
      },
      "outputs": [
        {
          "data": {
            "text/html": [
              "<div>\n",
              "<style scoped>\n",
              "    .dataframe tbody tr th:only-of-type {\n",
              "        vertical-align: middle;\n",
              "    }\n",
              "\n",
              "    .dataframe tbody tr th {\n",
              "        vertical-align: top;\n",
              "    }\n",
              "\n",
              "    .dataframe thead th {\n",
              "        text-align: right;\n",
              "    }\n",
              "</style>\n",
              "<table border=\"1\" class=\"dataframe\">\n",
              "  <thead>\n",
              "    <tr style=\"text-align: right;\">\n",
              "      <th></th>\n",
              "      <th>children</th>\n",
              "      <th>days_employed</th>\n",
              "      <th>dob_years</th>\n",
              "      <th>education_id</th>\n",
              "      <th>family_status_id</th>\n",
              "      <th>debt</th>\n",
              "      <th>total_income</th>\n",
              "    </tr>\n",
              "  </thead>\n",
              "  <tbody>\n",
              "    <tr>\n",
              "      <th>count</th>\n",
              "      <td>21453.000000</td>\n",
              "      <td>21453.000000</td>\n",
              "      <td>21453.000000</td>\n",
              "      <td>21453.000000</td>\n",
              "      <td>21453.000000</td>\n",
              "      <td>21453.000000</td>\n",
              "      <td>21453.000000</td>\n",
              "    </tr>\n",
              "    <tr>\n",
              "      <th>mean</th>\n",
              "      <td>0.473500</td>\n",
              "      <td>67051.095695</td>\n",
              "      <td>43.469025</td>\n",
              "      <td>0.817089</td>\n",
              "      <td>0.973896</td>\n",
              "      <td>0.081154</td>\n",
              "      <td>26451.382421</td>\n",
              "    </tr>\n",
              "    <tr>\n",
              "      <th>std</th>\n",
              "      <td>0.751162</td>\n",
              "      <td>135306.954124</td>\n",
              "      <td>12.214162</td>\n",
              "      <td>0.548686</td>\n",
              "      <td>1.421601</td>\n",
              "      <td>0.273078</td>\n",
              "      <td>15710.314734</td>\n",
              "    </tr>\n",
              "    <tr>\n",
              "      <th>min</th>\n",
              "      <td>0.000000</td>\n",
              "      <td>24.141633</td>\n",
              "      <td>19.000000</td>\n",
              "      <td>0.000000</td>\n",
              "      <td>0.000000</td>\n",
              "      <td>0.000000</td>\n",
              "      <td>3306.762000</td>\n",
              "    </tr>\n",
              "    <tr>\n",
              "      <th>25%</th>\n",
              "      <td>0.000000</td>\n",
              "      <td>1023.701831</td>\n",
              "      <td>33.000000</td>\n",
              "      <td>1.000000</td>\n",
              "      <td>0.000000</td>\n",
              "      <td>0.000000</td>\n",
              "      <td>17219.352000</td>\n",
              "    </tr>\n",
              "    <tr>\n",
              "      <th>50%</th>\n",
              "      <td>0.000000</td>\n",
              "      <td>2477.279057</td>\n",
              "      <td>42.000000</td>\n",
              "      <td>1.000000</td>\n",
              "      <td>0.000000</td>\n",
              "      <td>0.000000</td>\n",
              "      <td>22815.103500</td>\n",
              "    </tr>\n",
              "    <tr>\n",
              "      <th>75%</th>\n",
              "      <td>1.000000</td>\n",
              "      <td>7672.712487</td>\n",
              "      <td>53.000000</td>\n",
              "      <td>1.000000</td>\n",
              "      <td>1.000000</td>\n",
              "      <td>0.000000</td>\n",
              "      <td>31331.461000</td>\n",
              "    </tr>\n",
              "    <tr>\n",
              "      <th>max</th>\n",
              "      <td>5.000000</td>\n",
              "      <td>401755.400475</td>\n",
              "      <td>75.000000</td>\n",
              "      <td>4.000000</td>\n",
              "      <td>4.000000</td>\n",
              "      <td>1.000000</td>\n",
              "      <td>362496.645000</td>\n",
              "    </tr>\n",
              "  </tbody>\n",
              "</table>\n",
              "</div>"
            ],
            "text/plain": [
              "           children  days_employed     dob_years  education_id  \\\n",
              "count  21453.000000   21453.000000  21453.000000  21453.000000   \n",
              "mean       0.473500   67051.095695     43.469025      0.817089   \n",
              "std        0.751162  135306.954124     12.214162      0.548686   \n",
              "min        0.000000      24.141633     19.000000      0.000000   \n",
              "25%        0.000000    1023.701831     33.000000      1.000000   \n",
              "50%        0.000000    2477.279057     42.000000      1.000000   \n",
              "75%        1.000000    7672.712487     53.000000      1.000000   \n",
              "max        5.000000  401755.400475     75.000000      4.000000   \n",
              "\n",
              "       family_status_id          debt   total_income  \n",
              "count      21453.000000  21453.000000   21453.000000  \n",
              "mean           0.973896      0.081154   26451.382421  \n",
              "std            1.421601      0.273078   15710.314734  \n",
              "min            0.000000      0.000000    3306.762000  \n",
              "25%            0.000000      0.000000   17219.352000  \n",
              "50%            0.000000      0.000000   22815.103500  \n",
              "75%            1.000000      0.000000   31331.461000  \n",
              "max            4.000000      1.000000  362496.645000  "
            ]
          },
          "execution_count": 79,
          "metadata": {},
          "output_type": "execute_result"
        }
      ],
      "source": [
        "# Verifique se a função funcionou\n",
        "df.describe()"
      ]
    },
    {
      "cell_type": "markdown",
      "metadata": {
        "id": "rPRMHbwy6x3E"
      },
      "source": [
        "Coluna corrigida"
      ]
    },
    {
      "cell_type": "code",
      "execution_count": null,
      "metadata": {
        "id": "r6W2hCoF6x3E",
        "outputId": "545690af-8017-4bbb-8e44-b73d22967bc1"
      },
      "outputs": [
        {
          "name": "stdout",
          "output_type": "stream",
          "text": [
            "<class 'pandas.core.frame.DataFrame'>\n",
            "RangeIndex: 21453 entries, 0 to 21452\n",
            "Data columns (total 13 columns):\n",
            " #   Column            Non-Null Count  Dtype  \n",
            "---  ------            --------------  -----  \n",
            " 0   children          21453 non-null  int64  \n",
            " 1   days_employed     21453 non-null  float64\n",
            " 2   dob_years         21453 non-null  int64  \n",
            " 3   education         21453 non-null  object \n",
            " 4   education_id      21453 non-null  int64  \n",
            " 5   family_status     21453 non-null  object \n",
            " 6   family_status_id  21453 non-null  int64  \n",
            " 7   gender            21453 non-null  object \n",
            " 8   income_type       21453 non-null  object \n",
            " 9   debt              21453 non-null  int64  \n",
            " 10  total_income      21453 non-null  float64\n",
            " 11  purpose           21453 non-null  object \n",
            " 12  age               21453 non-null  object \n",
            "dtypes: float64(2), int64(5), object(6)\n",
            "memory usage: 2.1+ MB\n"
          ]
        }
      ],
      "source": [
        "# Verifique as entradas em todas as colunas - certifique-se de corrigir todos os valores ausentes\n",
        "df.info()"
      ]
    },
    {
      "cell_type": "markdown",
      "metadata": {
        "id": "teFn-yTw6x3E"
      },
      "source": [
        "Não existe dados faltantes no data frame"
      ]
    },
    {
      "cell_type": "markdown",
      "metadata": {
        "id": "vJ912KSk6x3F"
      },
      "source": [
        "## Categorização de dados\n",
        "\n",
        "Vou começar a categorizar os dados das colunas 'total_income', 'days_employed' e 'purpose' para podermos fazer as análises solicitadas no projeto.\n"
      ]
    },
    {
      "cell_type": "code",
      "execution_count": null,
      "metadata": {
        "scrolled": true,
        "id": "pP-x6vh76x3F",
        "outputId": "54d5d0c3-b862-4f09-bec7-6241eb256d16"
      },
      "outputs": [
        {
          "data": {
            "text/plain": [
              "[(2947.572, 75144.739], (75144.739, 146982.715], (146982.715, 218820.692], (218820.692, 290658.668], (290658.668, 362496.645]]\n",
              "Categories (5, interval[float64]): [(2947.572, 75144.739] < (75144.739, 146982.715] < (146982.715, 218820.692] < (218820.692, 290658.668] < (290658.668, 362496.645]]"
            ]
          },
          "execution_count": 81,
          "metadata": {},
          "output_type": "execute_result"
        }
      ],
      "source": [
        "# Categorizei os dados por intervalo de valores aproximados\n",
        "pd.cut(df['total_income'],5).sort_values().unique()"
      ]
    },
    {
      "cell_type": "code",
      "execution_count": null,
      "metadata": {
        "id": "UU9iVPlk6x3F",
        "outputId": "d6a893e7-49ac-4b88-8c97-2b42f5fdb491"
      },
      "outputs": [
        {
          "data": {
            "text/plain": [
              "0.25    17219.3520\n",
              "0.50    22815.1035\n",
              "0.75    31331.4610\n",
              "Name: total_income, dtype: float64"
            ]
          },
          "execution_count": 82,
          "metadata": {},
          "output_type": "execute_result"
        }
      ],
      "source": [
        "df['total_income'].quantile([0.25, 0.5, 0.75])"
      ]
    },
    {
      "cell_type": "code",
      "execution_count": null,
      "metadata": {
        "id": "0JUYChDe6x3F",
        "outputId": "da541872-e738-4839-9c31-fba18298fcfb"
      },
      "outputs": [
        {
          "data": {
            "text/plain": [
              "[(24.141, 1023.702], (1023.702, 2477.279], (2477.279, 7672.712], (7672.712, 401755.4]]\n",
              "Categories (4, interval[float64]): [(24.141, 1023.702] < (1023.702, 2477.279] < (2477.279, 7672.712] < (7672.712, 401755.4]]"
            ]
          },
          "execution_count": 83,
          "metadata": {},
          "output_type": "execute_result"
        }
      ],
      "source": [
        "# Categorizei os dados por quantidade de clientes aproximados em cada categoria\n",
        "pd.qcut(df['days_employed'],4).sort_values().unique()"
      ]
    },
    {
      "cell_type": "code",
      "execution_count": null,
      "metadata": {
        "id": "4IZVpC4y6x3F",
        "outputId": "86883cf7-77f0-4445-97a0-f9acdee9863d"
      },
      "outputs": [
        {
          "data": {
            "text/plain": [
              "wedding ceremony                            791\n",
              "having a wedding                            767\n",
              "to have a wedding                           765\n",
              "real estate transactions                    675\n",
              "buy commercial real estate                  661\n",
              "housing transactions                        652\n",
              "buying property for renting out             651\n",
              "transactions with commercial real estate    650\n",
              "housing                                     646\n",
              "purchase of the house                       646\n",
              "purchase of the house for my family         638\n",
              "construction of own property                635\n",
              "property                                    633\n",
              "transactions with my real estate            627\n",
              "building a real estate                      624\n",
              "buy real estate                             621\n",
              "purchase of my own house                    620\n",
              "building a property                         619\n",
              "housing renovation                          607\n",
              "buy residential real estate                 606\n",
              "buying my own car                           505\n",
              "going to university                         496\n",
              "car                                         494\n",
              "second-hand car purchase                    486\n",
              "cars                                        478\n",
              "to own a car                                478\n",
              "buying a second-hand car                    478\n",
              "to buy a car                                471\n",
              "car purchase                                461\n",
              "supplementary education                     460\n",
              "purchase of a car                           455\n",
              "university education                        452\n",
              "education                                   447\n",
              "to get a supplementary education            446\n",
              "getting an education                        442\n",
              "profile education                           436\n",
              "getting higher education                    426\n",
              "to become educated                          408\n",
              "Name: purpose, dtype: int64"
            ]
          },
          "execution_count": 84,
          "metadata": {},
          "output_type": "execute_result"
        }
      ],
      "source": [
        "df['purpose'].value_counts()"
      ]
    },
    {
      "cell_type": "code",
      "execution_count": null,
      "metadata": {
        "id": "ouJ-AtOF6x3F"
      },
      "outputs": [],
      "source": [
        "# Função para categorizar coluna \"purpose\"\n",
        "def cat_purpose(row):\n",
        "    if 'wedding' in row['purpose']:\n",
        "        return 'wedding'\n",
        "    elif 'real estate' in row['purpose'] or 'hous' in row['purpose'] or 'proper' in row['purpose']:\n",
        "        return 'real estate'\n",
        "    elif 'car' in row['purpose']:\n",
        "        return 'car'\n",
        "    elif 'educa' in row['purpose'] or 'university' in row['purpose'] :\n",
        "        return 'educat'\n",
        "    else:\n",
        "        return 'erro'\n"
      ]
    },
    {
      "cell_type": "code",
      "execution_count": null,
      "metadata": {
        "id": "qnTpStMd6x3F"
      },
      "outputs": [],
      "source": [
        "# Aplicando a função no data frame\n",
        "df['cat_purpose'] = df.apply(cat_purpose, axis=1)\n"
      ]
    },
    {
      "cell_type": "code",
      "execution_count": null,
      "metadata": {
        "id": "_ki0kMlw6x3F",
        "outputId": "43bdac32-6378-4122-c7f1-3eb68f2e4a71"
      },
      "outputs": [
        {
          "data": {
            "text/plain": [
              "real estate    10811\n",
              "car             4306\n",
              "educat          4013\n",
              "wedding         2323\n",
              "Name: cat_purpose, dtype: int64"
            ]
          },
          "execution_count": 87,
          "metadata": {},
          "output_type": "execute_result"
        }
      ],
      "source": [
        "# Conferindo valores\n",
        "df['cat_purpose'].value_counts()"
      ]
    },
    {
      "cell_type": "code",
      "execution_count": null,
      "metadata": {
        "id": "IfMyydd56x3F"
      },
      "outputs": [],
      "source": [
        "# Função para categorizar coluna \"total_income\"\n",
        "def cat_income(row):\n",
        "    if row['total_income'] <= 75144.739:\n",
        "        return 1\n",
        "    elif row['total_income'] <= 146982.715:\n",
        "        return 2\n",
        "    elif row['total_income'] <= 218820.692:\n",
        "        return 3\n",
        "    elif row['total_income'] <= 290658.668:\n",
        "        return 4\n",
        "    elif row['total_income'] <= 362496.645:\n",
        "        return 5\n",
        "    else:\n",
        "        return 0\n"
      ]
    },
    {
      "cell_type": "code",
      "execution_count": null,
      "metadata": {
        "id": "ahq3FSdg6x3G"
      },
      "outputs": [],
      "source": [
        "# Função para categorizar coluna \"total_income\"\n",
        "def cat_days(row):\n",
        "    if row['days_employed'] <= 1023.702:\n",
        "        return 1\n",
        "    elif row['days_employed'] <= 2477.279:\n",
        "        return 2\n",
        "    elif row['days_employed'] <= 7672.712:\n",
        "        return 3\n",
        "    else:\n",
        "        return 4\n"
      ]
    },
    {
      "cell_type": "code",
      "execution_count": null,
      "metadata": {
        "id": "UOmg3sxp6x3G"
      },
      "outputs": [],
      "source": [
        "# Crie uma coluna com as categorias e conte os valores para elas\n",
        "df['cat_income'] = df.apply(cat_income, axis=1)\n"
      ]
    },
    {
      "cell_type": "code",
      "execution_count": null,
      "metadata": {
        "id": "c9afvbeY6x3G"
      },
      "outputs": [],
      "source": [
        "df['cat_days'] = df.apply(cat_days, axis=1)"
      ]
    },
    {
      "cell_type": "code",
      "execution_count": null,
      "metadata": {
        "id": "sU5SUKdH6x3G",
        "outputId": "e3ab5c08-3f27-4062-aea4-f0f0898558a0"
      },
      "outputs": [
        {
          "name": "stdout",
          "output_type": "stream",
          "text": [
            "<class 'pandas.core.frame.DataFrame'>\n",
            "RangeIndex: 21453 entries, 0 to 21452\n",
            "Data columns (total 16 columns):\n",
            " #   Column            Non-Null Count  Dtype  \n",
            "---  ------            --------------  -----  \n",
            " 0   children          21453 non-null  int64  \n",
            " 1   days_employed     21453 non-null  float64\n",
            " 2   dob_years         21453 non-null  int64  \n",
            " 3   education         21453 non-null  object \n",
            " 4   education_id      21453 non-null  int64  \n",
            " 5   family_status     21453 non-null  object \n",
            " 6   family_status_id  21453 non-null  int64  \n",
            " 7   gender            21453 non-null  object \n",
            " 8   income_type       21453 non-null  object \n",
            " 9   debt              21453 non-null  int64  \n",
            " 10  total_income      21453 non-null  float64\n",
            " 11  purpose           21453 non-null  object \n",
            " 12  age               21453 non-null  object \n",
            " 13  cat_purpose       21453 non-null  object \n",
            " 14  cat_income        21453 non-null  int64  \n",
            " 15  cat_days          21453 non-null  int64  \n",
            "dtypes: float64(2), int64(7), object(7)\n",
            "memory usage: 2.6+ MB\n"
          ]
        }
      ],
      "source": [
        "df.info()"
      ]
    },
    {
      "cell_type": "code",
      "execution_count": null,
      "metadata": {
        "id": "qNxCbyzG6x3G",
        "outputId": "3372d32d-60ee-4a6c-fc12-a8f5774d9dc6"
      },
      "outputs": [
        {
          "data": {
            "text/plain": [
              "array([1, 2, 3, 4, 5])"
            ]
          },
          "execution_count": 93,
          "metadata": {},
          "output_type": "execute_result"
        }
      ],
      "source": [
        "# Examinar todos os dados numéricos em sua coluna selecionada para categorização\n",
        "df['cat_income'].unique()"
      ]
    },
    {
      "cell_type": "code",
      "execution_count": null,
      "metadata": {
        "id": "SGuGA4eN6x3G",
        "outputId": "69c5f0e9-fa9c-4010-ae3c-6d6d96c53657"
      },
      "outputs": [
        {
          "data": {
            "text/plain": [
              "array([4, 3, 1, 2])"
            ]
          },
          "execution_count": 94,
          "metadata": {},
          "output_type": "execute_result"
        }
      ],
      "source": [
        "df['cat_days'].unique()\n"
      ]
    },
    {
      "cell_type": "code",
      "execution_count": null,
      "metadata": {
        "id": "kSKGJydw6x3G",
        "outputId": "b97bc840-a36e-4196-f12f-3b7971415820"
      },
      "outputs": [
        {
          "data": {
            "text/plain": [
              "count    21453.000000\n",
              "mean         1.015196\n",
              "std          0.140430\n",
              "min          1.000000\n",
              "25%          1.000000\n",
              "50%          1.000000\n",
              "75%          1.000000\n",
              "max          5.000000\n",
              "Name: cat_income, dtype: float64"
            ]
          },
          "execution_count": 95,
          "metadata": {},
          "output_type": "execute_result"
        }
      ],
      "source": [
        "# Obter estatísticas resumidas para a coluna\n",
        "df['cat_income'].describe()"
      ]
    },
    {
      "cell_type": "code",
      "execution_count": null,
      "metadata": {
        "id": "P5yCN3MY6x3H",
        "outputId": "218f2393-9312-4aeb-c8be-0dba4f901285"
      },
      "outputs": [
        {
          "data": {
            "text/plain": [
              "count    21453.000000\n",
              "mean         2.500023\n",
              "std          1.118123\n",
              "min          1.000000\n",
              "25%          1.000000\n",
              "50%          3.000000\n",
              "75%          4.000000\n",
              "max          4.000000\n",
              "Name: cat_days, dtype: float64"
            ]
          },
          "execution_count": 96,
          "metadata": {},
          "output_type": "execute_result"
        }
      ],
      "source": [
        "df['cat_days'].describe()"
      ]
    },
    {
      "cell_type": "code",
      "execution_count": null,
      "metadata": {
        "scrolled": true,
        "id": "V6F7-WlT6x3H",
        "outputId": "55d20500-1c19-4116-d67a-b53200967146"
      },
      "outputs": [
        {
          "data": {
            "text/plain": [
              "1    21166\n",
              "2      258\n",
              "3       21\n",
              "4        6\n",
              "5        2\n",
              "Name: cat_income, dtype: int64"
            ]
          },
          "execution_count": 97,
          "metadata": {},
          "output_type": "execute_result"
        }
      ],
      "source": [
        "# Conte os valores de cada categoria para ver a distribuição\n",
        "df['cat_income'].value_counts()"
      ]
    },
    {
      "cell_type": "code",
      "execution_count": null,
      "metadata": {
        "id": "miaHByw36x3H",
        "outputId": "66134326-f776-4752-8a04-048efb0e02b5"
      },
      "outputs": [
        {
          "data": {
            "text/plain": [
              "1    5364\n",
              "4    5364\n",
              "3    5363\n",
              "2    5362\n",
              "Name: cat_days, dtype: int64"
            ]
          },
          "execution_count": 98,
          "metadata": {},
          "output_type": "execute_result"
        }
      ],
      "source": [
        "df['cat_days'].value_counts()"
      ]
    },
    {
      "cell_type": "markdown",
      "metadata": {
        "id": "yLcBTbpx6x3H"
      },
      "source": [
        "## Verificar as Hipóteses\n"
      ]
    },
    {
      "cell_type": "markdown",
      "metadata": {
        "id": "YYkBKlnF6x3H"
      },
      "source": [
        "**Existe alguma relação entre ter filhos e pagar um empréstimo em dia?**"
      ]
    },
    {
      "cell_type": "code",
      "execution_count": null,
      "metadata": {
        "id": "3KFB0soD6x3H",
        "outputId": "dd9c835a-83ce-4cc4-ed11-dc9bf580310d"
      },
      "outputs": [
        {
          "data": {
            "text/plain": [
              "children\n",
              "0    0.075604\n",
              "1    0.091658\n",
              "2    0.094542\n",
              "3    0.081818\n",
              "4    0.097561\n",
              "5    0.000000\n",
              "Name: debt, dtype: float64"
            ]
          },
          "execution_count": 99,
          "metadata": {},
          "output_type": "execute_result"
        }
      ],
      "source": [
        "df.groupby('children')['debt'].mean()\n"
      ]
    },
    {
      "cell_type": "markdown",
      "metadata": {
        "id": "S5w8DJlg6x3H"
      },
      "source": [
        "**Conclusão**\n",
        "\n",
        "Não existem relações óbvias entre ter filhos e pagar o empréstimo em dia, os valores estão na mesma faixa.\n"
      ]
    },
    {
      "cell_type": "markdown",
      "metadata": {
        "id": "w8nwgvYL6x3H"
      },
      "source": [
        "**Existe uma correlação entre o status familiar e o pagamento em dia?**"
      ]
    },
    {
      "cell_type": "code",
      "execution_count": null,
      "metadata": {
        "id": "fKqcOvZC6x3I",
        "outputId": "85fd9f9a-9c1d-41de-f42c-561178d90b09"
      },
      "outputs": [
        {
          "data": {
            "text/plain": [
              "family_status\n",
              "civil partnership    0.093494\n",
              "divorced             0.071130\n",
              "married              0.075452\n",
              "unmarried            0.097509\n",
              "widow / widower      0.065693\n",
              "Name: debt, dtype: float64"
            ]
          },
          "execution_count": 100,
          "metadata": {},
          "output_type": "execute_result"
        }
      ],
      "source": [
        "\n",
        "df.groupby('family_status')['debt'].mean()\n"
      ]
    },
    {
      "cell_type": "markdown",
      "metadata": {
        "id": "tOlNbz0G6x3I"
      },
      "source": [
        "**Conclusão**\n",
        "\n",
        "Não existem relações óbvias entre o status familiar e pagar o empréstimo em dia, os valores estão na mesma faixa.\n"
      ]
    },
    {
      "cell_type": "markdown",
      "metadata": {
        "id": "aNpnrDP66x3I"
      },
      "source": [
        "**Existe uma relação entre o nível de renda e o pagamento de um empréstimo no prazo?**"
      ]
    },
    {
      "cell_type": "code",
      "execution_count": null,
      "metadata": {
        "id": "Y1--eQ6H6x3I",
        "outputId": "9d6044d1-e0a6-4d43-d5ae-508413c8f77e"
      },
      "outputs": [
        {
          "data": {
            "text/plain": [
              "cat_income\n",
              "1    0.081499\n",
              "2    0.054264\n",
              "3    0.047619\n",
              "4    0.000000\n",
              "5    0.500000\n",
              "Name: debt, dtype: float64"
            ]
          },
          "execution_count": 101,
          "metadata": {},
          "output_type": "execute_result"
        }
      ],
      "source": [
        "\n",
        "df.groupby('cat_income')['debt'].mean()\n"
      ]
    },
    {
      "cell_type": "markdown",
      "metadata": {
        "id": "39Sst17c6x3I"
      },
      "source": [
        "**Conclusão**\n",
        "\n",
        "Em um intervalo equivalente de valores para determinar a faixa de renda, é possível perceber que 50% dos clinetes com a mais alta renda não pagam empréstimos em dia, 8% dos clientes da renda mais baixa não pagam os empréstimos em dia, esse são os dois maiores grupos de inadiplentes, vale lembrar que a faixa 5 de renda possui apenas 2 representantes. Após as duas faixas, vieram a faixa 2 com 5,4% e a faixa 3 com 4,7% com atrasos e a faixa 4 com nenhum atraso em pagamentos."
      ]
    },
    {
      "cell_type": "markdown",
      "metadata": {
        "id": "pK9mCz_P6x3I"
      },
      "source": [
        "**Como a finalidade do crédito afeta a taxa de inadimplência?**"
      ]
    },
    {
      "cell_type": "code",
      "execution_count": null,
      "metadata": {
        "id": "APDLLbM-6x3I",
        "outputId": "decfd5de-0023-4080-f9b6-df88f6c659a8"
      },
      "outputs": [
        {
          "data": {
            "text/plain": [
              "cat_purpose\n",
              "car            0.093590\n",
              "educat         0.092200\n",
              "real estate    0.072334\n",
              "wedding        0.080069\n",
              "Name: debt, dtype: float64"
            ]
          },
          "execution_count": 102,
          "metadata": {},
          "output_type": "execute_result"
        }
      ],
      "source": [
        "\n",
        "df.groupby('cat_purpose')['debt'].mean()\n"
      ]
    },
    {
      "cell_type": "markdown",
      "metadata": {
        "id": "cQIQKMGn6x3I"
      },
      "source": [
        "**Conclusão**\n",
        "\n",
        "Não existem relações óbvias entre o propósito e pagar o empréstimo em dia, os valores estão na mesma faixa.\n"
      ]
    },
    {
      "cell_type": "markdown",
      "metadata": {
        "id": "epHlFktW6x3J"
      },
      "source": [
        "# Conclusão Geral\n",
        "\n",
        "O conjunto de dados foi apresnetado com erros. Nas colunas 'total_income' e 'days_employed' houveram dados faltantes que corrigimos ao longo do projeto. Além deles, existiram colunas duplicadas, e dados identicos que estavam apenas com caixa alta ou baixa, o que os classificam como dados diferentes, arrumamos ao longo pro projeto.\n",
        "\n",
        "Para resolver os valores ausentes em \"total_income\" utilizei a mediana dos dados referentes ao tipo de fonte de renda que foi apresentado, pois considero que o valor da renda é mais perceptível dependendo do tipo de renda que se tem.\n",
        "\n",
        "Para resolver os valores ausentes em \"days_employed\" utilizei a média dos dados referentes a classificação de idade que categorizei, pois considero que a idade é diretamente proporcional ao tempo de trabalho.\n",
        "\n",
        "Sobre as perguntas realizadas no início do projeto:\n",
        "* Não existem relações óbvias entre ter filhos e pagar o empréstimo em dia, os valores estão na mesma faixa.\n",
        "* Não existem relações óbvias entre o status familiar e pagar o empréstimo em dia, os valores estão na mesma faixa.\n",
        "* Em um intervalo equivalente de valores para determinar a faixa de renda, é possível perceber que 50% dos clinetes com a mais alta renda não pagam empréstimos em dia, 8% dos clientes da renda mais baixa não pagam os empréstimos em dia, esse são os dois maiores grupos de inadiplentes, vale lembrar que a faixa 5 de renda possui apenas 2 representantes. Após as duas faixas, vieram a faixa 2 com 5,4% e a faixa 3 com 4,7% com atrasos e a faixa 4 com nenhum atraso em pagamentos.\n",
        "* Não existem relações óbvias entre o propósito e pagar o empréstimo em dia, os valores estão na mesma faixa.\n"
      ]
    },
    {
      "cell_type": "code",
      "execution_count": null,
      "metadata": {
        "id": "B8SwbCVC6x3J"
      },
      "outputs": [],
      "source": []
    }
  ],
  "metadata": {
    "ExecuteTimeLog": [
      {
        "duration": 2741,
        "start_time": "2021-10-21T01:08:49.480Z"
      },
      {
        "duration": 52,
        "start_time": "2021-10-21T01:08:53.315Z"
      },
      {
        "duration": 49,
        "start_time": "2021-10-21T01:08:57.432Z"
      },
      {
        "duration": 70,
        "start_time": "2021-10-21T01:09:07.706Z"
      }
    ],
    "kernelspec": {
      "display_name": "Python 3 (ipykernel)",
      "language": "python",
      "name": "python3"
    },
    "language_info": {
      "codemirror_mode": {
        "name": "ipython",
        "version": 3
      },
      "file_extension": ".py",
      "mimetype": "text/x-python",
      "name": "python",
      "nbconvert_exporter": "python",
      "pygments_lexer": "ipython3",
      "version": "3.9.5"
    },
    "toc": {
      "base_numbering": 1,
      "nav_menu": {},
      "number_sections": true,
      "sideBar": true,
      "skip_h1_title": true,
      "title_cell": "Table of Contents",
      "title_sidebar": "Contents",
      "toc_cell": false,
      "toc_position": {},
      "toc_section_display": true,
      "toc_window_display": false
    },
    "colab": {
      "provenance": []
    }
  },
  "nbformat": 4,
  "nbformat_minor": 0
}